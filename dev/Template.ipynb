{
 "cells": [
  {
   "cell_type": "markdown",
   "id": "b3bf4d0b",
   "metadata": {},
   "source": [
    "# Template Jupyter Notebook"
   ]
  },
  {
   "cell_type": "code",
   "execution_count": 28,
   "id": "971c14af",
   "metadata": {},
   "outputs": [],
   "source": [
    "import json\n",
    "import pandas as pd\n",
    "from pathlib import Path\n",
    "import os"
   ]
  },
  {
   "cell_type": "code",
   "execution_count": 29,
   "id": "8d6603b3",
   "metadata": {},
   "outputs": [],
   "source": [
    "def parse_json(path: str):\n",
    "    with open(path, \"r\", encoding=\"utf-8\") as file:\n",
    "        raw_data = json.load(file)\n",
    "    \n",
    "    messages = pd.DataFrame(raw_data.get(\"messages\",[]))\n",
    "    participants = pd.DataFrame(raw_data[\"participants\"])\n",
    "    thread_path = raw_data.get(\"thread_path\",os.path.basename(path))\n",
    "    return messages, participants, thread_path"
   ]
  },
  {
   "cell_type": "code",
   "execution_count": 30,
   "id": "85843476-e7f0-4572-a1f6-874132850fdb",
   "metadata": {},
   "outputs": [],
   "source": [
    "def get_conversation(messages: pd.DataFrame, totalConversation: dict):\n",
    "    for index, row in messages.iterrows():\n",
    "        sender = row.get(\"sender_name\")\n",
    "        content = row.get(\"content\")\n",
    "        if(content == None):\n",
    "            continue\n",
    "    totalConversation.setdefault(sender, []).append(content)\n",
    "    return totalConversation"
   ]
  },
  {
   "cell_type": "code",
   "execution_count": 31,
   "id": "a92836e3-723a-483c-9010-b7621a02e593",
   "metadata": {},
   "outputs": [],
   "source": [
    "def update_conversation_counts(messages: pd.DataFrame, participants: pd.DataFrame, totalConversation: dict):\n",
    "    if len(participants) != 2:\n",
    "        return totalConversation\n",
    "\n",
    "    p1 = participants[\"name\"].iloc[0]\n",
    "\n",
    "    if p1 not in totalConversation:\n",
    "        totalConversation[p1] = {\"sent\": 0, \"received\": 0}\n",
    "\n",
    "    for _, row in messages.iterrows():\n",
    "        sender = row.get(\"sender_name\")\n",
    "        content = row.get(\"content\")\n",
    "        if content is None:\n",
    "            continue    \n",
    "    if sender == p1:\n",
    "        totalConversation[p1][\"sent\"] += 1\n",
    "    else:\n",
    "        totalConversation[p1][\"received\"] += 1\n",
    "\n",
    "    return totalConversation"
   ]
  },
  {
   "cell_type": "code",
   "execution_count": null,
   "id": "d6077b68",
   "metadata": {},
   "outputs": [
    {
     "name": "stdout",
     "output_type": "stream",
     "text": [
      "              sent  received\n",
      "participant                 \n",
      "Omar Madhani     0         1\n",
      "              sent  received\n",
      "participant                 \n",
      "Omar Madhani     0         1\n",
      "Kaitlynð      1         0\n",
      "              sent  received\n",
      "participant                 \n",
      "Omar Madhani     0         1\n",
      "Kaitlynð      1         0\n",
      "Rowan            0         1\n"
     ]
    }
   ],
   "source": [
    "totalConversation={}\n",
    "# folder_path = r\"c:\\Users\\nlhng\\OneDrive\\Desktop\\UVEC2025\\dev\\test\"\n",
    "for file_path in Path(folder_path).glob(\"*.json\"):\n",
    "    messages, participants, thread_path = parse_json(file_path)\n",
    "\n",
    "    if len(participants) == 2:\n",
    "        totalConversation = update_conversation_counts(messages, participants, totalConversation)\n",
    "\n",
    "    df = pd.DataFrame.from_dict(totalConversation, orient=\"index\")\n",
    "    df.index.name = \"participant\"\n",
    "    print(df)\n",
    "    ## divide recieved by sent then sort"
   ]
  }
 ],
 "metadata": {
  "kernelspec": {
   "display_name": "Python 3 (ipykernel)",
   "language": "python",
   "name": "python3"
  },
  "language_info": {
   "codemirror_mode": {
    "name": "ipython",
    "version": 3
   },
   "file_extension": ".py",
   "mimetype": "text/x-python",
   "name": "python",
   "nbconvert_exporter": "python",
   "pygments_lexer": "ipython3",
   "version": "3.12.3"
  }
 },
 "nbformat": 4,
 "nbformat_minor": 5
}
