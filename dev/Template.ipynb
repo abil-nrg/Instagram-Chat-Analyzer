{
 "cells": [
  {
   "cell_type": "markdown",
   "id": "b3bf4d0b",
   "metadata": {},
   "source": [
    "# Template Jupyter Notebook"
   ]
  },
  {
   "cell_type": "code",
   "execution_count": 15,
   "id": "971c14af",
   "metadata": {},
   "outputs": [],
   "source": [
    "import json\n",
    "import codecs\n",
    "import unicodedata\n",
    "import string\n",
    "from collections import Counter\n",
    "import re\n",
    "import pandas as pd"
   ]
  },
  {
   "cell_type": "code",
   "execution_count": 16,
   "id": "8d6603b3",
   "metadata": {},
   "outputs": [],
   "source": [
    "def parse_json(path: str):\n",
    "    with open(path, \"r\", encoding=\"utf-8\") as file:\n",
    "        raw_data = json.load(file)\n",
    "    \n",
    "    messages = pd.DataFrame(raw_data[\"messages\"])\n",
    "    participants = pd.DataFrame(raw_data[\"participants\"])\n",
    "    \n",
    "    messages[\"content\"] = messages[\"content\"].apply(clean_text)\n",
    "    messages[\"sender_name\"] = messages[\"sender_name\"].apply(clean_text)\n",
    "    participants[\"name\"] = participants[\"name\"].apply(clean_text)\n",
    "    \n",
    "    return messages, participants "
   ]
  },
  {
   "cell_type": "code",
   "execution_count": 17,
   "id": "85843476-e7f0-4572-a1f6-874132850fdb",
   "metadata": {},
   "outputs": [],
   "source": [
    "def get_conversation(messages: pd.DataFrame, totalConversation: dict):\n",
    "    for index, row in messages.iterrows():\n",
    "        sender = row.get(\"sender_name\")\n",
    "        content = row.get(\"content\")\n",
    "        if content == None:\n",
    "            continue\n",
    "        totalConversation.setdefault(sender, []).append(content)\n",
    "    return totalConversation"
   ]
  },
  {
   "cell_type": "code",
   "execution_count": 18,
   "id": "0d24d124-b540-45bc-a1c4-0875f08b77cb",
   "metadata": {},
   "outputs": [],
   "source": [
    "def clean_text(text):\n",
    "    if not isinstance(text, str):\n",
    "        return text\n",
    "    try:\n",
    "        text = text.encode(\"latin1\").decode(\"utf-8\")\n",
    "    except Exception:\n",
    "        pass\n",
    "    text = text.replace(\"\\u200d\", \"\")   # remove zero-width joiner\n",
    "    return text"
   ]
  },
  {
   "cell_type": "code",
   "execution_count": 19,
   "id": "0278f8c2-7bd1-4708-a0e0-b2f3d3929beb",
   "metadata": {},
   "outputs": [],
   "source": [
    "def word_frequency(conversations: dict, targetWord: str):\n",
    "    targetWord = targetWord.lower().strip()\n",
    "    word_count = {}\n",
    "\n",
    "    for sender, messages in conversations.items():  # ← FIXED\n",
    "        count = 0\n",
    "        for msg in messages:\n",
    "            # Skip invalid values\n",
    "            if not isinstance(msg, str) or not msg.strip():\n",
    "                continue\n",
    "\n",
    "            lower_msg = msg.lower()\n",
    "\n",
    "            # Count if target word appears\n",
    "            if targetWord in lower_msg:\n",
    "                count += 1\n",
    "\n",
    "        # Always include user even if count = 0\n",
    "        word_count[sender] = count\n",
    "\n",
    "    return word_count"
   ]
  },
  {
   "cell_type": "code",
   "execution_count": 20,
   "id": "87348e2c-2131-46a0-8acb-d3f1f70cc7de",
   "metadata": {},
   "outputs": [],
   "source": [
    "def top_word_per_user(conversation: dict, user: str, top_n: int = 10):\n",
    "    # Check if user exists\n",
    "    if user not in conversation:\n",
    "        print(f\"User '{user}' not found.\")\n",
    "        return {}\n",
    "\n",
    "    messages = conversation[user]\n",
    "    words = []\n",
    "\n",
    "    for msg in messages:\n",
    "        if not isinstance(msg, str) or not msg.strip():\n",
    "            continue\n",
    "\n",
    "        lower_msg = msg.lower()\n",
    "\n",
    "        for w in lower_msg.split():\n",
    "            clean_word = w.strip(string.punctuation)\n",
    "            if clean_word:\n",
    "                words.append(clean_word)\n",
    "\n",
    "    counter = Counter(words)\n",
    "    return dict(counter.most_common(top_n))"
   ]
  },
  {
   "cell_type": "code",
   "execution_count": 21,
   "id": "5cc13c7d-092d-4ca8-8e18-b1cf3b805e03",
   "metadata": {},
   "outputs": [
    {
     "ename": "NameError",
     "evalue": "name 'Counter' is not defined",
     "output_type": "error",
     "traceback": [
      "\u001b[31m---------------------------------------------------------------------------\u001b[39m",
      "\u001b[31mNameError\u001b[39m                                 Traceback (most recent call last)",
      "\u001b[36mCell\u001b[39m\u001b[36m \u001b[39m\u001b[32mIn[21]\u001b[39m\u001b[32m, line 4\u001b[39m\n\u001b[32m      2\u001b[39m result = get_conversation(messages, {})\n\u001b[32m      3\u001b[39m word_freq = word_frequency(result, \u001b[33m\"\u001b[39m\u001b[33mfuck\u001b[39m\u001b[33m\"\u001b[39m)\n\u001b[32m----> \u001b[39m\u001b[32m4\u001b[39m word_per = \u001b[43mtop_word_per_user\u001b[49m\u001b[43m(\u001b[49m\u001b[43mresult\u001b[49m\u001b[43m,\u001b[49m\u001b[33;43m\"\u001b[39;49m\u001b[33;43mAusten Brown\u001b[39;49m\u001b[33;43m\"\u001b[39;49m\u001b[43m)\u001b[49m\n\u001b[32m      5\u001b[39m \u001b[38;5;28mprint\u001b[39m(word_per)\n",
      "\u001b[36mCell\u001b[39m\u001b[36m \u001b[39m\u001b[32mIn[20]\u001b[39m\u001b[32m, line 21\u001b[39m, in \u001b[36mtop_word_per_user\u001b[39m\u001b[34m(conversation, user, top_n)\u001b[39m\n\u001b[32m     18\u001b[39m         \u001b[38;5;28;01mif\u001b[39;00m clean_word:\n\u001b[32m     19\u001b[39m             words.append(clean_word)\n\u001b[32m---> \u001b[39m\u001b[32m21\u001b[39m counter = \u001b[43mCounter\u001b[49m(words)\n\u001b[32m     22\u001b[39m \u001b[38;5;28;01mreturn\u001b[39;00m \u001b[38;5;28mdict\u001b[39m(counter.most_common(top_n))\n",
      "\u001b[31mNameError\u001b[39m: name 'Counter' is not defined"
     ]
    }
   ],
   "source": [
    "messages, participants = parse_json(\"message_1.json\")\n",
    "result = get_conversation(messages, {})\n",
    "word_freq = word_frequency(result, \"fuck\")\n",
    "word_per = top_word_per_user(result,\"Austen Brown\")\n",
    "print(word_per)"
   ]
  },
  {
   "cell_type": "code",
   "execution_count": null,
   "id": "5e0e1e2b-c631-4d1f-bb65-c678f53d816f",
   "metadata": {},
   "outputs": [],
   "source": []
  },
  {
   "cell_type": "code",
   "execution_count": null,
   "id": "9d44df96-de01-4230-8541-e627d8813a64",
   "metadata": {},
   "outputs": [],
   "source": []
  }
 ],
 "metadata": {
  "kernelspec": {
   "display_name": "Python 3 (ipykernel)",
   "language": "python",
   "name": "python3"
  },
  "language_info": {
   "codemirror_mode": {
    "name": "ipython",
    "version": 3
   },
   "file_extension": ".py",
   "mimetype": "text/x-python",
   "name": "python",
   "nbconvert_exporter": "python",
   "pygments_lexer": "ipython3",
   "version": "3.12.3"
  }
 },
 "nbformat": 4,
 "nbformat_minor": 5
}
