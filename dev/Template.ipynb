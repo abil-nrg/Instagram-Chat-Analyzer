{
 "cells": [
  {
   "cell_type": "markdown",
   "id": "b3bf4d0b",
   "metadata": {},
   "source": [
    "# Template Jupyter Notebook"
   ]
  },
  {
   "cell_type": "code",
<<<<<<< Updated upstream
   "execution_count": 436,
=======
   "execution_count": 641,
>>>>>>> Stashed changes
   "id": "971c14af",
   "metadata": {},
   "outputs": [],
   "source": [
    "import json\n",
<<<<<<< Updated upstream
    "import codecs\n",
    "import unicodedata\n",
=======
>>>>>>> Stashed changes
    "import re\n",
    "import pandas as pd\n",
    "from collections import Counter\n",
    "import string"
   ]
  },
  {
   "cell_type": "code",
<<<<<<< Updated upstream
   "execution_count": 437,
=======
   "execution_count": 642,
>>>>>>> Stashed changes
   "id": "8d6603b3",
   "metadata": {},
   "outputs": [],
   "source": [
    "def parse_json(path: str):\n",
    "    with open(path, \"r\", encoding=\"utf-8\") as file:\n",
    "        raw_data = json.load(file)\n",
    "    \n",
    "    messages = pd.DataFrame(raw_data[\"messages\"])\n",
    "    participants = pd.DataFrame(raw_data[\"participants\"])\n",
    "    \n",
    "    messages[\"content\"] = messages[\"content\"].apply(clean_text)\n",
    "    messages[\"sender_name\"] = messages[\"sender_name\"].apply(clean_text)\n",
    "    participants[\"name\"] = participants[\"name\"].apply(clean_text)\n",
    "    \n",
    "    return messages, participants "
   ]
  },
  {
   "cell_type": "code",
<<<<<<< Updated upstream
   "execution_count": 438,
=======
   "execution_count": 643,
>>>>>>> Stashed changes
   "id": "85843476-e7f0-4572-a1f6-874132850fdb",
   "metadata": {},
   "outputs": [],
   "source": [
    "def get_conversation(messages: pd.DataFrame, totalConversation: dict):\n",
    "    for index, row in messages.iterrows():\n",
    "        sender = row.get(\"sender_name\")\n",
    "        content = row.get(\"content\")\n",
    "        if content == None:\n",
    "            continue\n",
    "        totalConversation.setdefault(sender, []).append(content)\n",
    "    return totalConversation"
   ]
  },
  {
   "cell_type": "code",
<<<<<<< Updated upstream
   "execution_count": 439,
=======
   "execution_count": 644,
>>>>>>> Stashed changes
   "id": "0d24d124-b540-45bc-a1c4-0875f08b77cb",
   "metadata": {},
   "outputs": [],
   "source": [
    "def clean_text(text):\n",
    "    if not isinstance(text, str):\n",
    "        return text\n",
    "    try:\n",
    "        text = text.encode(\"latin1\").decode(\"utf-8\")\n",
    "    except Exception:\n",
    "        pass\n",
    "    text = text.replace(\"\\u200d\", \"\")   # remove zero-width joiner\n",
    "    return text"
   ]
  },
  {
   "cell_type": "code",
<<<<<<< Updated upstream
   "execution_count": 440,
=======
   "execution_count": 645,
>>>>>>> Stashed changes
   "id": "0278f8c2-7bd1-4708-a0e0-b2f3d3929beb",
   "metadata": {},
   "outputs": [],
   "source": [
    "def word_frequency(conversations: dict, targetWord: str):\n",
    "    targetWord = targetWord.lower().strip()\n",
    "    word_count = {}\n",
    "\n",
    "    for sender, messages in conversations.items():  # ← FIXED\n",
    "        count = 0\n",
    "        for msg in messages:\n",
    "            # Skip invalid values\n",
    "            if not isinstance(msg, str) or not msg.strip():\n",
    "                continue\n",
    "\n",
    "            lower_msg = msg.lower()\n",
    "\n",
    "            # Count if target word appears\n",
    "            if targetWord in lower_msg:\n",
    "                count += 1\n",
    "        # Always include user even if count = 0\n",
    "        word_count[sender] = count\n",
    "\n",
    "    return word_count"
   ]
  },
  {
   "cell_type": "code",
<<<<<<< Updated upstream
   "execution_count": 441,
=======
   "execution_count": 646,
   "id": "87348e2c-2131-46a0-8acb-d3f1f70cc7de",
   "metadata": {},
   "outputs": [],
   "source": [
    "def top_word_per_user(content: dict, user: str, top_n: int = 10):\n",
    "    # check if user exists\n",
    "    if user not in content:\n",
    "        print(\"User\", user, \"not found.\")\n",
    "        return {}\n",
    "\n",
    "    messages = content[user]\n",
    "    words = []\n",
    "\n",
    "    for msg in messages:\n",
    "        # skip invalid or empty messages\n",
    "        if not isinstance(msg, str) or not msg.strip():\n",
    "            continue\n",
    "\n",
    "        lower_msg = msg.lower()\n",
    "\n",
    "        # split message into words and clean punctuation\n",
    "        for i in lower_msg.split():\n",
    "            cleanWord = i.strip(string.punctuation)\n",
    "            if cleanWord:\n",
    "                words.append(cleanWord)\n",
    "\n",
    "    # count most common words\n",
    "    counter = Counter(words)\n",
    "    return dict(counter.most_common(top_n)) \n",
    "    "
   ]
  },
  {
   "cell_type": "code",
   "execution_count": 647,
   "id": "5e0e1e2b-c631-4d1f-bb65-c678f53d816f",
   "metadata": {},
   "outputs": [],
   "source": []
  },
  {
   "cell_type": "code",
   "execution_count": 648,
>>>>>>> Stashed changes
   "id": "5cc13c7d-092d-4ca8-8e18-b1cf3b805e03",
   "metadata": {},
   "outputs": [
    {
     "name": "stdout",
     "output_type": "stream",
     "text": [
<<<<<<< Updated upstream
      "{'Austen Brown': 2, '𝙹𝚘𝚛𝚍𝚘𝚗': 58, 'alex.edwardss': 39, 'Phoenix': 1, 'Bryce Love': 3, 'abil': 1, 'Jonathan Sheehy': 5, 'Aidan': 0, 'Krop': 2, 'clayton': 0, 'Ali': 0, 'shayna': 8, 'Noman Beckett': 7, 'Zuniel Sali™': 0, 'Myles': 0, 'T A Y L O R': 0, 'Elijah': 7, 'captain_jackpotatoes': 0, 'Kaitlyn👑': 0, 'Maddy 🧟♀️': 0, 'Will Shaw': 1, 'Hayden McCormick': 0, 'Instagram User': 0, 'Ewan': 0, 'Meta AI': 0, 'eeugenio.maldonado': 1, 'Kyle Steabner': 0, 'Hayden Lindsay': 0, 'ali': 0, 'Torin': 0}\n"
=======
      "{'’': 592, '𝚘': 198, '𝙹': 99, '𝚛': 99, '𝚍': 99}\n"
>>>>>>> Stashed changes
     ]
    }
   ],
   "source": [
    "messages, participants = parse_json(\"message_1.json\")\n",
    "result = get_conversation(messages, {})\n",
    "word_freq = word_frequency(result, \"🧑🏽\")\n",
    "most_use_word = top_word_per_user(result, \"𝙹𝚘𝚛𝚍𝚘𝚗\")\n"
   ]
  },
  {
   "cell_type": "code",
   "execution_count": null,
<<<<<<< Updated upstream
   "id": "87348e2c-2131-46a0-8acb-d3f1f70cc7de",
   "metadata": {},
   "outputs": [],
   "source": [
    "\n"
   ]
  },
  {
   "cell_type": "code",
   "execution_count": null,
   "id": "5e0e1e2b-c631-4d1f-bb65-c678f53d816f",
=======
   "id": "9d44df96-de01-4230-8541-e627d8813a64",
>>>>>>> Stashed changes
   "metadata": {},
   "outputs": [],
   "source": []
  },
  {
   "cell_type": "code",
   "execution_count": null,
   "id": "9d44df96-de01-4230-8541-e627d8813a64",
   "metadata": {},
   "outputs": [],
   "source": []
  }
 ],
 "metadata": {
  "kernelspec": {
   "display_name": "Python 3 (ipykernel)",
   "language": "python",
   "name": "python3"
  },
  "language_info": {
   "codemirror_mode": {
    "name": "ipython",
    "version": 3
   },
   "file_extension": ".py",
   "mimetype": "text/x-python",
   "name": "python",
   "nbconvert_exporter": "python",
   "pygments_lexer": "ipython3",
   "version": "3.12.3"
  }
 },
 "nbformat": 4,
 "nbformat_minor": 5
}
