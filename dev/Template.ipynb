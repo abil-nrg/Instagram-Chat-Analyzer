{
 "cells": [
  {
   "cell_type": "markdown",
   "id": "b3bf4d0b",
   "metadata": {},
   "source": [
    "# Template Jupyter Notebook"
   ]
  },
  {
   "cell_type": "code",
   "execution_count": 436,
   "id": "971c14af",
   "metadata": {},
   "outputs": [],
   "source": [
    "import json, codecs, unicodedata, re\n",
    "import pandas as pd\n",
    "from pathlib import Path\n",
    "import os"
   ]
  },
  {
   "cell_type": "code",
   "execution_count": null,
   "id": "87a62146",
   "metadata": {},
   "outputs": [],
   "source": [
    "def clean_text(text):\n",
    "    if not isinstance(text, str):\n",
    "        return text\n",
    "    \n",
    "    try:\n",
    "        text = text.encode(\"latin1\").decode(\"utf-8\")\n",
    "    except Exception:\n",
    "        pass\n",
    "    text = text.replace(\"\\u200d\", \"\")   # remove zero-width joiner\n",
    "    return text\n"
   ]
  },
  {
   "cell_type": "code",
   "execution_count": 69,
   "id": "8d6603b3",
   "metadata": {},
   "outputs": [],
   "source": [
    "def parse_json(path: str):\n",
    "    with open(path, \"r\", encoding=\"utf-8\") as file:\n",
    "        raw_data = json.load(file)\n",
    "\n",
    "    messages = pd.DataFrame(raw_data.get(\"messages\", []))\n",
    "    participants = pd.DataFrame(raw_data[\"participants\"])\n",
    "    thread_path = raw_data.get(\"thread_path\", os.path.basename(path))\n",
    "\n",
    "    messages[\"content\"] = messages[\"content\"].apply(clean_text)\n",
    "    messages[\"sender_name\"] = messages[\"sender_name\"].apply(clean_text)\n",
    "    participants[\"name\"] = participants[\"name\"].apply(clean_text)\n",
    "\n",
    "    return messages, participants, thread_path\n"
   ]
  },
  {
   "cell_type": "code",
   "execution_count": 438,
   "id": "85843476-e7f0-4572-a1f6-874132850fdb",
   "metadata": {},
   "outputs": [],
   "source": [
    "def get_conversation(messages: pd.DataFrame, totalConversation: dict): \n",
    "    for index, row in messages.iterrows(): \n",
    "        sender = row.get(\"sender_name\") \n",
    "        content = row.get(\"content\") \n",
    "        if(content == None): \n",
    "            continue \n",
    "        totalConversation.setdefault(sender, []).append(content) \n",
    "    return totalConversation"
   ]
  },
  {
   "cell_type": "code",
   "execution_count": null,
   "id": "d5162e85",
   "metadata": {},
   "outputs": [],
   "source": [
    "def word_frequency(conversations: dict, targetWord: str):\n",
    "    targetWord = targetWord.lower().strip()\n",
    "    word_count = {}\n",
    "\n",
    "    for sender, messages in conversations.items():  # FIXED\n",
    "        count = 0\n",
    "        for msg in messages:\n",
    "            # skip invalid values\n",
    "            if not isinstance(msg, str) or not msg.strip():\n",
    "                continue\n",
    "\n",
    "            lower_msg = msg.lower()\n",
    "\n",
    "            # count if target word appears\n",
    "            if targetWord in lower_msg:\n",
    "                count += 1\n",
    "\n",
    "        # always include user even if count = 0\n",
    "        word_count[sender] = count\n",
    "\n",
    "    return word_count"
   ]
  },
  {
   "cell_type": "code",
   "execution_count": null,
   "id": "9d44df96-de01-4230-8541-e627d8813a64",
   "metadata": {},
   "outputs": [],
   "source": [
    "def update_conversation_counts(messages: pd.DataFrame, participants: pd.DataFrame, totalConversation: dict):\n",
    "    if len(participants) != 2:\n",
    "        return totalConversation\n",
    "\n",
    "    p1 = participants[\"name\"].iloc[0]\n",
    "\n",
    "    if p1 not in totalConversation:\n",
    "        totalConversation[p1] = {\"sent\": 0, \"received\": 0}\n",
    "\n",
    "    for _, row in messages.iterrows():\n",
    "        sender = row.get(\"sender_name\")\n",
    "        content = row.get(\"content\")\n",
    "        if content is None:\n",
    "            continue    \n",
    "\n",
    "        if sender == p1:\n",
    "            totalConversation[p1][\"sent\"] += 1\n",
    "        else:\n",
    "            totalConversation[p1][\"received\"] += 1\n",
    "\n",
    "    return totalConversation\n"
   ]
  },
  {
   "cell_type": "code",
   "execution_count": null,
   "id": "24ae9500",
   "metadata": {},
   "outputs": [],
   "source": [
    "messages, participants = parse_json(\"message_1.json\")\n",
    "result = get_conversation(messages, {})\n",
    "word_freq = word_frequency(result, \"fuck\")\n",
    "print(word_freq)"
   ]
  },
  {
   "cell_type": "code",
   "execution_count": 73,
   "id": "d6077b68",
   "metadata": {},
   "outputs": [
    {
     "name": "stdout",
     "output_type": "stream",
     "text": [
      "              sent  received\n",
      "Omar Madhani     6         8\n",
      "Kaitlyn👑         1         0\n",
      "Rowan           12        23\n"
     ]
    }
   ],
   "source": [
    "folder_path = r\"c:\\Users\\nlhng\\OneDrive\\Desktop\\UVEC2025\\dev\\test\"\n",
    "totalConversation = {}\n",
    "\n",
    "for path in Path(folder_path).glob(\"*.json\"):\n",
    "    messages, participants, thread_path = parse_json(path)\n",
    "    if len(participants) == 2:\n",
    "        totalConversation = update_conversation_counts(messages, participants, totalConversation)\n",
    "\n",
    "df = pd.DataFrame.from_dict(totalConversation, orient=\"index\")\n",
    "print(df)\n",
    "\n",
    "## divide recieved by sent then sort"
   ]
  }
 ],
 "metadata": {
  "kernelspec": {
   "display_name": "venv",
   "language": "python",
   "name": "python3"
  },
  "language_info": {
   "codemirror_mode": {
    "name": "ipython",
    "version": 3
   },
   "file_extension": ".py",
   "mimetype": "text/x-python",
   "name": "python",
   "nbconvert_exporter": "python",
   "pygments_lexer": "ipython3",
   "version": "3.12.3"
  }
 },
 "nbformat": 4,
 "nbformat_minor": 5
}
