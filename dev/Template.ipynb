{
 "cells": [
  {
   "cell_type": "markdown",
   "id": "b3bf4d0b",
   "metadata": {},
   "source": [
    "# Template Jupyter Notebook"
   ]
  },
  {
   "cell_type": "code",
   "execution_count": 74,
   "id": "971c14af",
   "metadata": {},
   "outputs": [],
   "source": [
    "import json\n",
    "import codecs\n",
    "import unicodedata\n",
    "import string\n",
    "from collections import Counter\n",
    "import re\n",
    "import pandas as pd"
   ]
  },
  {
   "cell_type": "code",
   "execution_count": 75,
   "id": "254f4123",
   "metadata": {},
   "outputs": [],
   "source": [
    "def clean_text(text):\n",
    "    if not isinstance(text, str):\n",
    "        return text\n",
    "    try:\n",
    "        text = text.encode(\"latin1\").decode(\"utf-8\")\n",
    "    except Exception:\n",
    "        pass\n",
    "    text = text.replace(\"\\u200d\", \"\")   # remove zero-width joiner\n",
    "    return text"
   ]
  },
  {
   "cell_type": "code",
   "execution_count": 76,
   "id": "8d6603b3",
   "metadata": {},
   "outputs": [],
   "source": [
    "def parse_json(path: str):\n",
    "    with open(path, \"r\", encoding=\"utf-8\") as file:\n",
    "        raw_data = json.load(file)\n",
    "\n",
    "    messages = pd.DataFrame(raw_data.get(\"messages\", []))\n",
    "    participants = pd.DataFrame(raw_data[\"participants\"])\n",
    "    thread_path = raw_data.get(\"thread_path\", os.path.basename(path))\n",
    "\n",
    "    messages[\"content\"] = messages[\"content\"].apply(clean_text)\n",
    "    messages[\"sender_name\"] = messages[\"sender_name\"].apply(clean_text)\n",
    "    participants[\"name\"] = participants[\"name\"].apply(clean_text)\n",
    "\n",
    "    return messages, participants, thread_path"
   ]
  },
  {
   "cell_type": "code",
   "execution_count": 77,
   "id": "85843476-e7f0-4572-a1f6-874132850fdb",
   "metadata": {},
   "outputs": [],
   "source": [
    "def get_conversation(messages: pd.DataFrame, totalConversation: dict):\n",
    "    for index, row in messages.iterrows():\n",
    "        sender = row.get(\"sender_name\")\n",
    "        content = row.get(\"content\")\n",
    "        if content == None:\n",
    "            continue\n",
    "        totalConversation.setdefault(sender, []).append(content)\n",
    "    return totalConversation"
   ]
  },
  {
   "cell_type": "code",
   "execution_count": 78,
   "id": "0278f8c2-7bd1-4708-a0e0-b2f3d3929beb",
   "metadata": {},
   "outputs": [],
   "source": [
    "def word_frequency(conversations: dict, targetWord: str):\n",
    "    targetWord = targetWord.lower().strip()\n",
    "    word_count = {}\n",
    "\n",
    "    for sender, messages in conversations.items():  # ← FIXED\n",
    "        count = 0\n",
    "        for msg in messages:\n",
    "            # Skip invalid values\n",
    "            if not isinstance(msg, str) or not msg.strip():\n",
    "                continue\n",
    "\n",
    "            lower_msg = msg.lower()\n",
    "\n",
    "            # Count if target word appears\n",
    "            if targetWord in lower_msg:\n",
    "                count += 1\n",
    "\n",
    "        # Always include user even if count = 0\n",
    "        word_count[sender] = count\n",
    "\n",
    "    return word_count"
   ]
  },
  {
   "cell_type": "code",
   "execution_count": 79,
   "id": "5a4059a0",
   "metadata": {},
   "outputs": [],
   "source": [
    "def top_word_per_user(conversation: dict, user: str, top_n: int = 10):\n",
    "    # Check if user exists\n",
    "    if user not in conversation:\n",
    "        print(f\"User '{user}' not found.\")\n",
    "        return {}\n",
    "\n",
    "    messages = conversation[user]\n",
    "    words = []\n",
    "\n",
    "    for msg in messages:\n",
    "        if not isinstance(msg, str) or not msg.strip():\n",
    "            continue\n",
    "\n",
    "        lower_msg = msg.lower()\n",
    "\n",
    "        for w in lower_msg.split():\n",
    "            clean_word = w.strip(string.punctuation)\n",
    "            if clean_word:\n",
    "                words.append(clean_word)\n",
    "\n",
    "    counter = Counter(words)\n",
    "    return dict(counter.most_common(top_n))"
   ]
  },
  {
   "cell_type": "code",
   "execution_count": 80,
   "id": "3195c914",
   "metadata": {},
   "outputs": [],
   "source": [
    "def update_conversation_counts(messages: pd.DataFrame, participants: pd.DataFrame, totalConversation: dict):\n",
    "    if len(participants) != 2:\n",
    "        return totalConversation\n",
    "\n",
    "    p1 = participants[\"name\"].iloc[0]\n",
    "\n",
    "    if p1 not in totalConversation:\n",
    "        totalConversation[p1] = {\"sent\": 0, \"received\": 0}\n",
    "\n",
    "    for _, row in messages.iterrows():\n",
    "        sender = row.get(\"sender_name\")\n",
    "        content = row.get(\"content\")\n",
    "        if content is None:\n",
    "            continue    \n",
    "\n",
    "        if sender == p1:\n",
    "            totalConversation[p1][\"sent\"] += 1\n",
    "        else:\n",
    "            totalConversation[p1][\"received\"] += 1\n",
    "\n",
    "    return totalConversation\n"
   ]
  },
  {
   "cell_type": "code",
   "execution_count": null,
   "id": "5cc13c7d-092d-4ca8-8e18-b1cf3b805e03",
   "metadata": {},
   "outputs": [],
   "source": [
    "messages, participants, thread_path = parse_json(\"message_1.json\")\n",
    "result = get_conversation(messages, {})\n",
    "word_freq = word_frequency(result, \"fuck\")\n",
    "word_per = top_word_per_user(result,\"Austen Brown\")\n",
    "print(word_per)"
   ]
  },
  {
   "cell_type": "code",
   "execution_count": null,
   "id": "87348e2c-2131-46a0-8acb-d3f1f70cc7de",
   "metadata": {},
   "outputs": [
    {
     "name": "stdout",
     "output_type": "stream",
     "text": [
      "User 'Austen Brown' not found.\n",
      "{}\n",
      "              sent  received\n",
      "Omar Madhani     6         8\n",
      "Kaitlyn👑         1         0\n",
      "Rowan           12        23\n"
     ]
    }
   ],
   "source": [
    "# ngan test\n",
    "folder_path = r\"c:\\Users\\nlhng\\OneDrive\\Desktop\\UVEC2025\\dev\\test\"\n",
    "totalConversation = {}\n",
    "\n",
    "for path in Path(folder_path).glob(\"*.json\"):\n",
    "    messages, participants, thread_path = parse_json(path)\n",
    "    if len(participants) == 2:\n",
    "        totalConversation = update_conversation_counts(messages, participants, totalConversation)\n",
    "\n",
    "df = pd.DataFrame.from_dict(totalConversation, orient=\"index\")\n",
    "print(df)\n",
    "\n",
    "## divide recieved by sent then sort\n"
   ]
  }
 ],
 "metadata": {
  "kernelspec": {
   "display_name": "venv",
   "language": "python",
   "name": "python3"
  },
  "language_info": {
   "codemirror_mode": {
    "name": "ipython",
    "version": 3
   },
   "file_extension": ".py",
   "mimetype": "text/x-python",
   "name": "python",
   "nbconvert_exporter": "python",
   "pygments_lexer": "ipython3",
   "version": "3.12.3"
  }
 },
 "nbformat": 4,
 "nbformat_minor": 5
}
