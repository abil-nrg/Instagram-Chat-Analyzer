{
 "cells": [
  {
   "cell_type": "markdown",
   "id": "b3bf4d0b",
   "metadata": {},
   "source": [
    "# Template Jupyter Notebook"
   ]
  },
  {
   "cell_type": "code",
   "execution_count": 1,
   "id": "971c14af",
   "metadata": {},
   "outputs": [],
   "source": [
    "import pandas as pd \n",
    "import json\n",
    "import numpy as np"
   ]
  },
  {
   "cell_type": "code",
   "execution_count": 2,
   "id": "7323fc36",
   "metadata": {},
   "outputs": [],
   "source": [
    "def parse_json(path: str):\n",
    "    \"\"\"\n",
    "    Parsing\n",
    "    \"\"\"\n",
    "    with open(path, \"r\", encoding=\"utf-8\") as file:\n",
    "        raw_data = json.load(file)\n",
    "    \n",
    "    messages = pd.DataFrame(raw_data[\"messages\"])\n",
    "    participants = pd.DataFrame(raw_data[\"participants\"])\n",
    "    return messages, participants"
   ]
  },
  {
   "cell_type": "code",
   "execution_count": 3,
   "id": "c88780b7",
   "metadata": {},
   "outputs": [],
   "source": [
    "fpath = \"../sample-data/chillwalknightday_5554251577921385/message_1.json\"\n",
    "msgs, participants = parse_json(fpath)"
   ]
  },
  {
   "cell_type": "code",
   "execution_count": 4,
   "id": "35f0f958",
   "metadata": {},
   "outputs": [],
   "source": [
    "user_name = 'abil'"
   ]
  },
  {
   "cell_type": "code",
   "execution_count": 5,
   "id": "3e9d8ba4",
   "metadata": {},
   "outputs": [],
   "source": [
    "from count import count_msgs_io, total_msgs_sent, total_msgs_recieved, get_activity_timeline"
   ]
  },
  {
   "cell_type": "code",
   "execution_count": 6,
   "id": "bca6fd23",
   "metadata": {},
   "outputs": [
    {
     "data": {
      "text/plain": [
       "'[{\"date\":\"2024-12-16T00:00:00.000\",\"content_count\":7,\"audio_files_count\":0,\"share_count\":0,\"photos_count\":1,\"videos_count\":0,\"total\":8},{\"date\":\"2024-12-17T00:00:00.000\",\"content_count\":9,\"audio_files_count\":0,\"share_count\":2,\"photos_count\":0,\"videos_count\":0,\"total\":11},{\"date\":\"2024-12-18T00:00:00.000\",\"content_count\":0,\"audio_files_count\":0,\"share_count\":0,\"photos_count\":0,\"videos_count\":0,\"total\":0},{\"date\":\"2024-12-19T00:00:00.000\",\"content_count\":11,\"audio_files_count\":0,\"share_count\":0,\"photos_count\":1,\"videos_count\":0,\"total\":12},{\"date\":\"2024-12-20T00:00:00.000\",\"content_count\":6,\"audio_files_count\":0,\"share_count\":0,\"photos_count\":0,\"videos_count\":0,\"total\":6},{\"date\":\"2024-12-21T00:00:00.000\",\"content_count\":66,\"audio_files_count\":0,\"share_count\":0,\"photos_count\":3,\"videos_count\":0,\"total\":69},{\"date\":\"2024-12-22T00:00:00.000\",\"content_count\":85,\"audio_files_count\":0,\"share_count\":2,\"photos_count\":2,\"videos_count\":1,\"total\":90},{\"date\":\"2024-12-23T00:00:00.000\",\"content_count\":16,\"audio_files_count\":0,\"share_count\":1,\"photos_count\":0,\"videos_count\":0,\"total\":17},{\"date\":\"2024-12-24T00:00:00.000\",\"content_count\":6,\"audio_files_count\":0,\"share_count\":0,\"photos_count\":0,\"videos_count\":0,\"total\":6},{\"date\":\"2024-12-25T00:00:00.000\",\"content_count\":35,\"audio_files_count\":0,\"share_count\":1,\"photos_count\":1,\"videos_count\":0,\"total\":37},{\"date\":\"2024-12-26T00:00:00.000\",\"content_count\":20,\"audio_files_count\":0,\"share_count\":0,\"photos_count\":0,\"videos_count\":0,\"total\":20},{\"date\":\"2024-12-27T00:00:00.000\",\"content_count\":23,\"audio_files_count\":0,\"share_count\":2,\"photos_count\":1,\"videos_count\":0,\"total\":26},{\"date\":\"2024-12-28T00:00:00.000\",\"content_count\":9,\"audio_files_count\":0,\"share_count\":0,\"photos_count\":2,\"videos_count\":0,\"total\":11},{\"date\":\"2024-12-29T00:00:00.000\",\"content_count\":87,\"audio_files_count\":0,\"share_count\":1,\"photos_count\":3,\"videos_count\":0,\"total\":91},{\"date\":\"2024-12-30T00:00:00.000\",\"content_count\":7,\"audio_files_count\":0,\"share_count\":1,\"photos_count\":1,\"videos_count\":0,\"total\":9},{\"date\":\"2024-12-31T00:00:00.000\",\"content_count\":31,\"audio_files_count\":0,\"share_count\":0,\"photos_count\":0,\"videos_count\":0,\"total\":31},{\"date\":\"2025-01-01T00:00:00.000\",\"content_count\":68,\"audio_files_count\":0,\"share_count\":0,\"photos_count\":2,\"videos_count\":0,\"total\":70},{\"date\":\"2025-01-02T00:00:00.000\",\"content_count\":4,\"audio_files_count\":0,\"share_count\":0,\"photos_count\":0,\"videos_count\":0,\"total\":4},{\"date\":\"2025-01-03T00:00:00.000\",\"content_count\":10,\"audio_files_count\":0,\"share_count\":1,\"photos_count\":1,\"videos_count\":1,\"total\":13},{\"date\":\"2025-01-04T00:00:00.000\",\"content_count\":0,\"audio_files_count\":0,\"share_count\":0,\"photos_count\":0,\"videos_count\":0,\"total\":0},{\"date\":\"2025-01-05T00:00:00.000\",\"content_count\":8,\"audio_files_count\":1,\"share_count\":0,\"photos_count\":2,\"videos_count\":3,\"total\":14},{\"date\":\"2025-01-06T00:00:00.000\",\"content_count\":19,\"audio_files_count\":0,\"share_count\":4,\"photos_count\":1,\"videos_count\":0,\"total\":24},{\"date\":\"2025-01-07T00:00:00.000\",\"content_count\":8,\"audio_files_count\":0,\"share_count\":0,\"photos_count\":0,\"videos_count\":0,\"total\":8},{\"date\":\"2025-01-08T00:00:00.000\",\"content_count\":0,\"audio_files_count\":0,\"share_count\":0,\"photos_count\":0,\"videos_count\":0,\"total\":0},{\"date\":\"2025-01-09T00:00:00.000\",\"content_count\":3,\"audio_files_count\":0,\"share_count\":0,\"photos_count\":0,\"videos_count\":0,\"total\":3},{\"date\":\"2025-01-10T00:00:00.000\",\"content_count\":63,\"audio_files_count\":0,\"share_count\":2,\"photos_count\":2,\"videos_count\":0,\"total\":67},{\"date\":\"2025-01-11T00:00:00.000\",\"content_count\":48,\"audio_files_count\":0,\"share_count\":1,\"photos_count\":1,\"videos_count\":0,\"total\":50},{\"date\":\"2025-01-12T00:00:00.000\",\"content_count\":23,\"audio_files_count\":0,\"share_count\":1,\"photos_count\":1,\"videos_count\":0,\"total\":25},{\"date\":\"2025-01-13T00:00:00.000\",\"content_count\":18,\"audio_files_count\":0,\"share_count\":0,\"photos_count\":1,\"videos_count\":0,\"total\":19},{\"date\":\"2025-01-14T00:00:00.000\",\"content_count\":19,\"audio_files_count\":0,\"share_count\":0,\"photos_count\":7,\"videos_count\":1,\"total\":27},{\"date\":\"2025-01-15T00:00:00.000\",\"content_count\":1,\"audio_files_count\":0,\"share_count\":0,\"photos_count\":0,\"videos_count\":0,\"total\":1},{\"date\":\"2025-01-16T00:00:00.000\",\"content_count\":0,\"audio_files_count\":0,\"share_count\":0,\"photos_count\":0,\"videos_count\":0,\"total\":0},{\"date\":\"2025-01-17T00:00:00.000\",\"content_count\":31,\"audio_files_count\":0,\"share_count\":1,\"photos_count\":0,\"videos_count\":0,\"total\":32},{\"date\":\"2025-01-18T00:00:00.000\",\"content_count\":14,\"audio_files_count\":0,\"share_count\":0,\"photos_count\":0,\"videos_count\":0,\"total\":14},{\"date\":\"2025-01-19T00:00:00.000\",\"content_count\":4,\"audio_files_count\":0,\"share_count\":0,\"photos_count\":0,\"videos_count\":1,\"total\":5},{\"date\":\"2025-01-20T00:00:00.000\",\"content_count\":0,\"audio_files_count\":0,\"share_count\":0,\"photos_count\":0,\"videos_count\":0,\"total\":0},{\"date\":\"2025-01-21T00:00:00.000\",\"content_count\":11,\"audio_files_count\":0,\"share_count\":0,\"photos_count\":0,\"videos_count\":0,\"total\":11},{\"date\":\"2025-01-22T00:00:00.000\",\"content_count\":0,\"audio_files_count\":0,\"share_count\":0,\"photos_count\":0,\"videos_count\":0,\"total\":0},{\"date\":\"2025-01-23T00:00:00.000\",\"content_count\":4,\"audio_files_count\":0,\"share_count\":0,\"photos_count\":1,\"videos_count\":0,\"total\":5},{\"date\":\"2025-01-24T00:00:00.000\",\"content_count\":3,\"audio_files_count\":0,\"share_count\":0,\"photos_count\":0,\"videos_count\":0,\"total\":3},{\"date\":\"2025-01-25T00:00:00.000\",\"content_count\":3,\"audio_files_count\":0,\"share_count\":0,\"photos_count\":0,\"videos_count\":0,\"total\":3},{\"date\":\"2025-01-26T00:00:00.000\",\"content_count\":22,\"audio_files_count\":0,\"share_count\":0,\"photos_count\":4,\"videos_count\":2,\"total\":28},{\"date\":\"2025-01-27T00:00:00.000\",\"content_count\":2,\"audio_files_count\":0,\"share_count\":1,\"photos_count\":1,\"videos_count\":0,\"total\":4},{\"date\":\"2025-01-28T00:00:00.000\",\"content_count\":0,\"audio_files_count\":0,\"share_count\":0,\"photos_count\":0,\"videos_count\":0,\"total\":0},{\"date\":\"2025-01-29T00:00:00.000\",\"content_count\":15,\"audio_files_count\":0,\"share_count\":0,\"photos_count\":1,\"videos_count\":0,\"total\":16},{\"date\":\"2025-01-30T00:00:00.000\",\"content_count\":5,\"audio_files_count\":0,\"share_count\":0,\"photos_count\":2,\"videos_count\":0,\"total\":7},{\"date\":\"2025-01-31T00:00:00.000\",\"content_count\":7,\"audio_files_count\":0,\"share_count\":0,\"photos_count\":0,\"videos_count\":1,\"total\":8},{\"date\":\"2025-02-01T00:00:00.000\",\"content_count\":17,\"audio_files_count\":0,\"share_count\":0,\"photos_count\":1,\"videos_count\":2,\"total\":20},{\"date\":\"2025-02-02T00:00:00.000\",\"content_count\":30,\"audio_files_count\":1,\"share_count\":1,\"photos_count\":3,\"videos_count\":1,\"total\":36},{\"date\":\"2025-02-03T00:00:00.000\",\"content_count\":52,\"audio_files_count\":0,\"share_count\":0,\"photos_count\":0,\"videos_count\":1,\"total\":53},{\"date\":\"2025-02-04T00:00:00.000\",\"content_count\":21,\"audio_files_count\":0,\"share_count\":1,\"photos_count\":1,\"videos_count\":0,\"total\":23},{\"date\":\"2025-02-05T00:00:00.000\",\"content_count\":34,\"audio_files_count\":0,\"share_count\":2,\"photos_count\":0,\"videos_count\":0,\"total\":36},{\"date\":\"2025-02-06T00:00:00.000\",\"content_count\":15,\"audio_files_count\":0,\"share_count\":5,\"photos_count\":1,\"videos_count\":0,\"total\":21},{\"date\":\"2025-02-07T00:00:00.000\",\"content_count\":39,\"audio_files_count\":0,\"share_count\":2,\"photos_count\":3,\"videos_count\":1,\"total\":45},{\"date\":\"2025-02-08T00:00:00.000\",\"content_count\":36,\"audio_files_count\":0,\"share_count\":0,\"photos_count\":3,\"videos_count\":0,\"total\":39},{\"date\":\"2025-02-09T00:00:00.000\",\"content_count\":38,\"audio_files_count\":0,\"share_count\":2,\"photos_count\":0,\"videos_count\":0,\"total\":40},{\"date\":\"2025-02-10T00:00:00.000\",\"content_count\":1,\"audio_files_count\":0,\"share_count\":1,\"photos_count\":0,\"videos_count\":0,\"total\":2},{\"date\":\"2025-02-11T00:00:00.000\",\"content_count\":28,\"audio_files_count\":0,\"share_count\":1,\"photos_count\":4,\"videos_count\":0,\"total\":33},{\"date\":\"2025-02-12T00:00:00.000\",\"content_count\":59,\"audio_files_count\":0,\"share_count\":4,\"photos_count\":4,\"videos_count\":4,\"total\":71},{\"date\":\"2025-02-13T00:00:00.000\",\"content_count\":2,\"audio_files_count\":0,\"share_count\":1,\"photos_count\":0,\"videos_count\":0,\"total\":3},{\"date\":\"2025-02-14T00:00:00.000\",\"content_count\":22,\"audio_files_count\":0,\"share_count\":1,\"photos_count\":0,\"videos_count\":0,\"total\":23},{\"date\":\"2025-02-15T00:00:00.000\",\"content_count\":61,\"audio_files_count\":0,\"share_count\":3,\"photos_count\":4,\"videos_count\":0,\"total\":68},{\"date\":\"2025-02-16T00:00:00.000\",\"content_count\":63,\"audio_files_count\":0,\"share_count\":1,\"photos_count\":0,\"videos_count\":0,\"total\":64},{\"date\":\"2025-02-17T00:00:00.000\",\"content_count\":20,\"audio_files_count\":0,\"share_count\":3,\"photos_count\":0,\"videos_count\":0,\"total\":23},{\"date\":\"2025-02-18T00:00:00.000\",\"content_count\":27,\"audio_files_count\":0,\"share_count\":0,\"photos_count\":2,\"videos_count\":0,\"total\":29},{\"date\":\"2025-02-19T00:00:00.000\",\"content_count\":1,\"audio_files_count\":0,\"share_count\":0,\"photos_count\":0,\"videos_count\":0,\"total\":1},{\"date\":\"2025-02-20T00:00:00.000\",\"content_count\":14,\"audio_files_count\":0,\"share_count\":0,\"photos_count\":4,\"videos_count\":0,\"total\":18},{\"date\":\"2025-02-21T00:00:00.000\",\"content_count\":40,\"audio_files_count\":0,\"share_count\":3,\"photos_count\":5,\"videos_count\":0,\"total\":48},{\"date\":\"2025-02-22T00:00:00.000\",\"content_count\":59,\"audio_files_count\":0,\"share_count\":1,\"photos_count\":3,\"videos_count\":2,\"total\":65},{\"date\":\"2025-02-23T00:00:00.000\",\"content_count\":16,\"audio_files_count\":0,\"share_count\":0,\"photos_count\":2,\"videos_count\":0,\"total\":18},{\"date\":\"2025-02-24T00:00:00.000\",\"content_count\":24,\"audio_files_count\":0,\"share_count\":1,\"photos_count\":2,\"videos_count\":1,\"total\":28},{\"date\":\"2025-02-25T00:00:00.000\",\"content_count\":23,\"audio_files_count\":0,\"share_count\":0,\"photos_count\":6,\"videos_count\":1,\"total\":30},{\"date\":\"2025-02-26T00:00:00.000\",\"content_count\":35,\"audio_files_count\":0,\"share_count\":4,\"photos_count\":3,\"videos_count\":0,\"total\":42},{\"date\":\"2025-02-27T00:00:00.000\",\"content_count\":46,\"audio_files_count\":1,\"share_count\":6,\"photos_count\":1,\"videos_count\":1,\"total\":55},{\"date\":\"2025-02-28T00:00:00.000\",\"content_count\":25,\"audio_files_count\":0,\"share_count\":1,\"photos_count\":1,\"videos_count\":0,\"total\":27},{\"date\":\"2025-03-01T00:00:00.000\",\"content_count\":19,\"audio_files_count\":0,\"share_count\":0,\"photos_count\":0,\"videos_count\":1,\"total\":20},{\"date\":\"2025-03-02T00:00:00.000\",\"content_count\":5,\"audio_files_count\":0,\"share_count\":0,\"photos_count\":1,\"videos_count\":1,\"total\":7},{\"date\":\"2025-03-03T00:00:00.000\",\"content_count\":0,\"audio_files_count\":0,\"share_count\":0,\"photos_count\":0,\"videos_count\":0,\"total\":0},{\"date\":\"2025-03-04T00:00:00.000\",\"content_count\":0,\"audio_files_count\":0,\"share_count\":0,\"photos_count\":0,\"videos_count\":0,\"total\":0},{\"date\":\"2025-03-05T00:00:00.000\",\"content_count\":14,\"audio_files_count\":0,\"share_count\":1,\"photos_count\":1,\"videos_count\":1,\"total\":17},{\"date\":\"2025-03-06T00:00:00.000\",\"content_count\":78,\"audio_files_count\":0,\"share_count\":4,\"photos_count\":5,\"videos_count\":2,\"total\":89},{\"date\":\"2025-03-07T00:00:00.000\",\"content_count\":18,\"audio_files_count\":0,\"share_count\":0,\"photos_count\":1,\"videos_count\":1,\"total\":20},{\"date\":\"2025-03-08T00:00:00.000\",\"content_count\":26,\"audio_files_count\":0,\"share_count\":1,\"photos_count\":0,\"videos_count\":0,\"total\":27},{\"date\":\"2025-03-09T00:00:00.000\",\"content_count\":46,\"audio_files_count\":0,\"share_count\":1,\"photos_count\":0,\"videos_count\":0,\"total\":47},{\"date\":\"2025-03-10T00:00:00.000\",\"content_count\":5,\"audio_files_count\":0,\"share_count\":0,\"photos_count\":1,\"videos_count\":0,\"total\":6},{\"date\":\"2025-03-11T00:00:00.000\",\"content_count\":17,\"audio_files_count\":0,\"share_count\":2,\"photos_count\":2,\"videos_count\":0,\"total\":21},{\"date\":\"2025-03-12T00:00:00.000\",\"content_count\":4,\"audio_files_count\":0,\"share_count\":0,\"photos_count\":2,\"videos_count\":0,\"total\":6},{\"date\":\"2025-03-13T00:00:00.000\",\"content_count\":7,\"audio_files_count\":0,\"share_count\":1,\"photos_count\":0,\"videos_count\":1,\"total\":9},{\"date\":\"2025-03-14T00:00:00.000\",\"content_count\":32,\"audio_files_count\":0,\"share_count\":2,\"photos_count\":0,\"videos_count\":1,\"total\":35},{\"date\":\"2025-03-15T00:00:00.000\",\"content_count\":46,\"audio_files_count\":0,\"share_count\":0,\"photos_count\":1,\"videos_count\":0,\"total\":47},{\"date\":\"2025-03-16T00:00:00.000\",\"content_count\":14,\"audio_files_count\":0,\"share_count\":2,\"photos_count\":1,\"videos_count\":1,\"total\":18},{\"date\":\"2025-03-17T00:00:00.000\",\"content_count\":47,\"audio_files_count\":0,\"share_count\":0,\"photos_count\":0,\"videos_count\":0,\"total\":47},{\"date\":\"2025-03-18T00:00:00.000\",\"content_count\":9,\"audio_files_count\":0,\"share_count\":0,\"photos_count\":1,\"videos_count\":0,\"total\":10},{\"date\":\"2025-03-19T00:00:00.000\",\"content_count\":28,\"audio_files_count\":0,\"share_count\":1,\"photos_count\":0,\"videos_count\":0,\"total\":29},{\"date\":\"2025-03-20T00:00:00.000\",\"content_count\":29,\"audio_files_count\":0,\"share_count\":1,\"photos_count\":0,\"videos_count\":0,\"total\":30},{\"date\":\"2025-03-21T00:00:00.000\",\"content_count\":9,\"audio_files_count\":0,\"share_count\":1,\"photos_count\":0,\"videos_count\":0,\"total\":10},{\"date\":\"2025-03-22T00:00:00.000\",\"content_count\":1,\"audio_files_count\":0,\"share_count\":0,\"photos_count\":0,\"videos_count\":0,\"total\":1},{\"date\":\"2025-03-23T00:00:00.000\",\"content_count\":0,\"audio_files_count\":0,\"share_count\":0,\"photos_count\":0,\"videos_count\":0,\"total\":0},{\"date\":\"2025-03-24T00:00:00.000\",\"content_count\":0,\"audio_files_count\":0,\"share_count\":0,\"photos_count\":0,\"videos_count\":0,\"total\":0},{\"date\":\"2025-03-25T00:00:00.000\",\"content_count\":2,\"audio_files_count\":0,\"share_count\":1,\"photos_count\":1,\"videos_count\":0,\"total\":4},{\"date\":\"2025-03-26T00:00:00.000\",\"content_count\":17,\"audio_files_count\":0,\"share_count\":0,\"photos_count\":0,\"videos_count\":0,\"total\":17},{\"date\":\"2025-03-27T00:00:00.000\",\"content_count\":5,\"audio_files_count\":0,\"share_count\":1,\"photos_count\":1,\"videos_count\":0,\"total\":7},{\"date\":\"2025-03-28T00:00:00.000\",\"content_count\":2,\"audio_files_count\":0,\"share_count\":1,\"photos_count\":0,\"videos_count\":0,\"total\":3},{\"date\":\"2025-03-29T00:00:00.000\",\"content_count\":15,\"audio_files_count\":0,\"share_count\":0,\"photos_count\":0,\"videos_count\":0,\"total\":15},{\"date\":\"2025-03-30T00:00:00.000\",\"content_count\":0,\"audio_files_count\":0,\"share_count\":0,\"photos_count\":0,\"videos_count\":0,\"total\":0},{\"date\":\"2025-03-31T00:00:00.000\",\"content_count\":4,\"audio_files_count\":0,\"share_count\":0,\"photos_count\":0,\"videos_count\":0,\"total\":4},{\"date\":\"2025-04-01T00:00:00.000\",\"content_count\":12,\"audio_files_count\":0,\"share_count\":0,\"photos_count\":4,\"videos_count\":0,\"total\":16},{\"date\":\"2025-04-02T00:00:00.000\",\"content_count\":22,\"audio_files_count\":0,\"share_count\":0,\"photos_count\":3,\"videos_count\":0,\"total\":25},{\"date\":\"2025-04-03T00:00:00.000\",\"content_count\":12,\"audio_files_count\":0,\"share_count\":1,\"photos_count\":1,\"videos_count\":0,\"total\":14},{\"date\":\"2025-04-04T00:00:00.000\",\"content_count\":21,\"audio_files_count\":0,\"share_count\":4,\"photos_count\":0,\"videos_count\":2,\"total\":27},{\"date\":\"2025-04-05T00:00:00.000\",\"content_count\":23,\"audio_files_count\":0,\"share_count\":1,\"photos_count\":4,\"videos_count\":0,\"total\":28},{\"date\":\"2025-04-06T00:00:00.000\",\"content_count\":15,\"audio_files_count\":0,\"share_count\":0,\"photos_count\":4,\"videos_count\":0,\"total\":19},{\"date\":\"2025-04-07T00:00:00.000\",\"content_count\":4,\"audio_files_count\":0,\"share_count\":1,\"photos_count\":0,\"videos_count\":0,\"total\":5},{\"date\":\"2025-04-08T00:00:00.000\",\"content_count\":29,\"audio_files_count\":0,\"share_count\":0,\"photos_count\":1,\"videos_count\":1,\"total\":31},{\"date\":\"2025-04-09T00:00:00.000\",\"content_count\":12,\"audio_files_count\":0,\"share_count\":1,\"photos_count\":1,\"videos_count\":0,\"total\":14},{\"date\":\"2025-04-10T00:00:00.000\",\"content_count\":57,\"audio_files_count\":0,\"share_count\":2,\"photos_count\":1,\"videos_count\":0,\"total\":60},{\"date\":\"2025-04-11T00:00:00.000\",\"content_count\":59,\"audio_files_count\":0,\"share_count\":2,\"photos_count\":1,\"videos_count\":0,\"total\":62},{\"date\":\"2025-04-12T00:00:00.000\",\"content_count\":40,\"audio_files_count\":0,\"share_count\":0,\"photos_count\":5,\"videos_count\":1,\"total\":46},{\"date\":\"2025-04-13T00:00:00.000\",\"content_count\":58,\"audio_files_count\":1,\"share_count\":3,\"photos_count\":3,\"videos_count\":0,\"total\":65},{\"date\":\"2025-04-14T00:00:00.000\",\"content_count\":2,\"audio_files_count\":0,\"share_count\":0,\"photos_count\":0,\"videos_count\":0,\"total\":2},{\"date\":\"2025-04-15T00:00:00.000\",\"content_count\":2,\"audio_files_count\":0,\"share_count\":0,\"photos_count\":1,\"videos_count\":1,\"total\":4},{\"date\":\"2025-04-16T00:00:00.000\",\"content_count\":11,\"audio_files_count\":0,\"share_count\":0,\"photos_count\":1,\"videos_count\":1,\"total\":13},{\"date\":\"2025-04-17T00:00:00.000\",\"content_count\":13,\"audio_files_count\":0,\"share_count\":2,\"photos_count\":0,\"videos_count\":0,\"total\":15},{\"date\":\"2025-04-18T00:00:00.000\",\"content_count\":33,\"audio_files_count\":0,\"share_count\":0,\"photos_count\":2,\"videos_count\":0,\"total\":35},{\"date\":\"2025-04-19T00:00:00.000\",\"content_count\":0,\"audio_files_count\":0,\"share_count\":0,\"photos_count\":0,\"videos_count\":0,\"total\":0},{\"date\":\"2025-04-20T00:00:00.000\",\"content_count\":0,\"audio_files_count\":0,\"share_count\":0,\"photos_count\":0,\"videos_count\":0,\"total\":0},{\"date\":\"2025-04-21T00:00:00.000\",\"content_count\":3,\"audio_files_count\":0,\"share_count\":0,\"photos_count\":1,\"videos_count\":0,\"total\":4},{\"date\":\"2025-04-22T00:00:00.000\",\"content_count\":7,\"audio_files_count\":0,\"share_count\":1,\"photos_count\":3,\"videos_count\":1,\"total\":12},{\"date\":\"2025-04-23T00:00:00.000\",\"content_count\":1,\"audio_files_count\":0,\"share_count\":0,\"photos_count\":0,\"videos_count\":0,\"total\":1},{\"date\":\"2025-04-24T00:00:00.000\",\"content_count\":20,\"audio_files_count\":0,\"share_count\":3,\"photos_count\":1,\"videos_count\":0,\"total\":24},{\"date\":\"2025-04-25T00:00:00.000\",\"content_count\":27,\"audio_files_count\":0,\"share_count\":1,\"photos_count\":2,\"videos_count\":1,\"total\":31},{\"date\":\"2025-04-26T00:00:00.000\",\"content_count\":115,\"audio_files_count\":0,\"share_count\":1,\"photos_count\":5,\"videos_count\":0,\"total\":121},{\"date\":\"2025-04-27T00:00:00.000\",\"content_count\":11,\"audio_files_count\":0,\"share_count\":0,\"photos_count\":0,\"videos_count\":0,\"total\":11},{\"date\":\"2025-04-28T00:00:00.000\",\"content_count\":22,\"audio_files_count\":0,\"share_count\":2,\"photos_count\":1,\"videos_count\":0,\"total\":25},{\"date\":\"2025-04-29T00:00:00.000\",\"content_count\":0,\"audio_files_count\":0,\"share_count\":0,\"photos_count\":0,\"videos_count\":0,\"total\":0},{\"date\":\"2025-04-30T00:00:00.000\",\"content_count\":1,\"audio_files_count\":0,\"share_count\":1,\"photos_count\":0,\"videos_count\":0,\"total\":2},{\"date\":\"2025-05-01T00:00:00.000\",\"content_count\":14,\"audio_files_count\":0,\"share_count\":0,\"photos_count\":0,\"videos_count\":2,\"total\":16},{\"date\":\"2025-05-02T00:00:00.000\",\"content_count\":21,\"audio_files_count\":0,\"share_count\":2,\"photos_count\":0,\"videos_count\":0,\"total\":23},{\"date\":\"2025-05-03T00:00:00.000\",\"content_count\":18,\"audio_files_count\":0,\"share_count\":1,\"photos_count\":0,\"videos_count\":0,\"total\":19},{\"date\":\"2025-05-04T00:00:00.000\",\"content_count\":0,\"audio_files_count\":0,\"share_count\":0,\"photos_count\":0,\"videos_count\":0,\"total\":0},{\"date\":\"2025-05-05T00:00:00.000\",\"content_count\":3,\"audio_files_count\":0,\"share_count\":0,\"photos_count\":4,\"videos_count\":0,\"total\":7},{\"date\":\"2025-05-06T00:00:00.000\",\"content_count\":43,\"audio_files_count\":0,\"share_count\":3,\"photos_count\":2,\"videos_count\":0,\"total\":48},{\"date\":\"2025-05-07T00:00:00.000\",\"content_count\":47,\"audio_files_count\":0,\"share_count\":2,\"photos_count\":3,\"videos_count\":0,\"total\":52},{\"date\":\"2025-05-08T00:00:00.000\",\"content_count\":22,\"audio_files_count\":0,\"share_count\":2,\"photos_count\":0,\"videos_count\":0,\"total\":24},{\"date\":\"2025-05-09T00:00:00.000\",\"content_count\":17,\"audio_files_count\":0,\"share_count\":0,\"photos_count\":3,\"videos_count\":0,\"total\":20},{\"date\":\"2025-05-10T00:00:00.000\",\"content_count\":20,\"audio_files_count\":0,\"share_count\":1,\"photos_count\":0,\"videos_count\":0,\"total\":21},{\"date\":\"2025-05-11T00:00:00.000\",\"content_count\":19,\"audio_files_count\":0,\"share_count\":0,\"photos_count\":2,\"videos_count\":0,\"total\":21},{\"date\":\"2025-05-12T00:00:00.000\",\"content_count\":34,\"audio_files_count\":0,\"share_count\":1,\"photos_count\":3,\"videos_count\":0,\"total\":38},{\"date\":\"2025-05-13T00:00:00.000\",\"content_count\":33,\"audio_files_count\":0,\"share_count\":0,\"photos_count\":1,\"videos_count\":0,\"total\":34},{\"date\":\"2025-05-14T00:00:00.000\",\"content_count\":17,\"audio_files_count\":0,\"share_count\":3,\"photos_count\":0,\"videos_count\":0,\"total\":20},{\"date\":\"2025-05-15T00:00:00.000\",\"content_count\":38,\"audio_files_count\":0,\"share_count\":2,\"photos_count\":6,\"videos_count\":0,\"total\":46},{\"date\":\"2025-05-16T00:00:00.000\",\"content_count\":29,\"audio_files_count\":0,\"share_count\":1,\"photos_count\":0,\"videos_count\":0,\"total\":30},{\"date\":\"2025-05-17T00:00:00.000\",\"content_count\":2,\"audio_files_count\":0,\"share_count\":0,\"photos_count\":0,\"videos_count\":0,\"total\":2},{\"date\":\"2025-05-18T00:00:00.000\",\"content_count\":0,\"audio_files_count\":0,\"share_count\":0,\"photos_count\":0,\"videos_count\":0,\"total\":0},{\"date\":\"2025-05-19T00:00:00.000\",\"content_count\":2,\"audio_files_count\":0,\"share_count\":0,\"photos_count\":4,\"videos_count\":6,\"total\":12},{\"date\":\"2025-05-20T00:00:00.000\",\"content_count\":3,\"audio_files_count\":0,\"share_count\":1,\"photos_count\":0,\"videos_count\":0,\"total\":4},{\"date\":\"2025-05-21T00:00:00.000\",\"content_count\":25,\"audio_files_count\":0,\"share_count\":2,\"photos_count\":1,\"videos_count\":2,\"total\":30},{\"date\":\"2025-05-22T00:00:00.000\",\"content_count\":11,\"audio_files_count\":0,\"share_count\":1,\"photos_count\":0,\"videos_count\":0,\"total\":12},{\"date\":\"2025-05-23T00:00:00.000\",\"content_count\":126,\"audio_files_count\":0,\"share_count\":1,\"photos_count\":7,\"videos_count\":0,\"total\":134},{\"date\":\"2025-05-24T00:00:00.000\",\"content_count\":163,\"audio_files_count\":1,\"share_count\":0,\"photos_count\":6,\"videos_count\":1,\"total\":171},{\"date\":\"2025-05-25T00:00:00.000\",\"content_count\":43,\"audio_files_count\":0,\"share_count\":0,\"photos_count\":2,\"videos_count\":0,\"total\":45},{\"date\":\"2025-05-26T00:00:00.000\",\"content_count\":65,\"audio_files_count\":0,\"share_count\":3,\"photos_count\":0,\"videos_count\":0,\"total\":68},{\"date\":\"2025-05-27T00:00:00.000\",\"content_count\":11,\"audio_files_count\":0,\"share_count\":2,\"photos_count\":0,\"videos_count\":1,\"total\":14},{\"date\":\"2025-05-28T00:00:00.000\",\"content_count\":18,\"audio_files_count\":0,\"share_count\":1,\"photos_count\":2,\"videos_count\":1,\"total\":22},{\"date\":\"2025-05-29T00:00:00.000\",\"content_count\":21,\"audio_files_count\":0,\"share_count\":2,\"photos_count\":1,\"videos_count\":0,\"total\":24},{\"date\":\"2025-05-30T00:00:00.000\",\"content_count\":41,\"audio_files_count\":0,\"share_count\":0,\"photos_count\":1,\"videos_count\":1,\"total\":43},{\"date\":\"2025-05-31T00:00:00.000\",\"content_count\":102,\"audio_files_count\":1,\"share_count\":6,\"photos_count\":7,\"videos_count\":1,\"total\":117},{\"date\":\"2025-06-01T00:00:00.000\",\"content_count\":91,\"audio_files_count\":0,\"share_count\":1,\"photos_count\":2,\"videos_count\":2,\"total\":96},{\"date\":\"2025-06-02T00:00:00.000\",\"content_count\":12,\"audio_files_count\":0,\"share_count\":1,\"photos_count\":1,\"videos_count\":0,\"total\":14},{\"date\":\"2025-06-03T00:00:00.000\",\"content_count\":23,\"audio_files_count\":0,\"share_count\":0,\"photos_count\":1,\"videos_count\":0,\"total\":24},{\"date\":\"2025-06-04T00:00:00.000\",\"content_count\":0,\"audio_files_count\":0,\"share_count\":0,\"photos_count\":0,\"videos_count\":0,\"total\":0},{\"date\":\"2025-06-05T00:00:00.000\",\"content_count\":0,\"audio_files_count\":0,\"share_count\":0,\"photos_count\":0,\"videos_count\":0,\"total\":0},{\"date\":\"2025-06-06T00:00:00.000\",\"content_count\":0,\"audio_files_count\":0,\"share_count\":0,\"photos_count\":0,\"videos_count\":0,\"total\":0},{\"date\":\"2025-06-07T00:00:00.000\",\"content_count\":0,\"audio_files_count\":0,\"share_count\":0,\"photos_count\":0,\"videos_count\":0,\"total\":0},{\"date\":\"2025-06-08T00:00:00.000\",\"content_count\":0,\"audio_files_count\":0,\"share_count\":0,\"photos_count\":0,\"videos_count\":0,\"total\":0},{\"date\":\"2025-06-09T00:00:00.000\",\"content_count\":11,\"audio_files_count\":0,\"share_count\":0,\"photos_count\":1,\"videos_count\":0,\"total\":12},{\"date\":\"2025-06-10T00:00:00.000\",\"content_count\":0,\"audio_files_count\":0,\"share_count\":0,\"photos_count\":0,\"videos_count\":0,\"total\":0},{\"date\":\"2025-06-11T00:00:00.000\",\"content_count\":44,\"audio_files_count\":0,\"share_count\":2,\"photos_count\":3,\"videos_count\":0,\"total\":49},{\"date\":\"2025-06-12T00:00:00.000\",\"content_count\":22,\"audio_files_count\":0,\"share_count\":0,\"photos_count\":0,\"videos_count\":0,\"total\":22},{\"date\":\"2025-06-13T00:00:00.000\",\"content_count\":7,\"audio_files_count\":0,\"share_count\":1,\"photos_count\":1,\"videos_count\":0,\"total\":9},{\"date\":\"2025-06-14T00:00:00.000\",\"content_count\":24,\"audio_files_count\":0,\"share_count\":1,\"photos_count\":0,\"videos_count\":0,\"total\":25},{\"date\":\"2025-06-15T00:00:00.000\",\"content_count\":65,\"audio_files_count\":0,\"share_count\":1,\"photos_count\":4,\"videos_count\":3,\"total\":73},{\"date\":\"2025-06-16T00:00:00.000\",\"content_count\":23,\"audio_files_count\":0,\"share_count\":2,\"photos_count\":2,\"videos_count\":0,\"total\":27},{\"date\":\"2025-06-17T00:00:00.000\",\"content_count\":67,\"audio_files_count\":0,\"share_count\":1,\"photos_count\":1,\"videos_count\":0,\"total\":69},{\"date\":\"2025-06-18T00:00:00.000\",\"content_count\":11,\"audio_files_count\":0,\"share_count\":0,\"photos_count\":1,\"videos_count\":0,\"total\":12},{\"date\":\"2025-06-19T00:00:00.000\",\"content_count\":61,\"audio_files_count\":0,\"share_count\":0,\"photos_count\":5,\"videos_count\":0,\"total\":66},{\"date\":\"2025-06-20T00:00:00.000\",\"content_count\":53,\"audio_files_count\":0,\"share_count\":0,\"photos_count\":0,\"videos_count\":0,\"total\":53},{\"date\":\"2025-06-21T00:00:00.000\",\"content_count\":161,\"audio_files_count\":1,\"share_count\":4,\"photos_count\":9,\"videos_count\":3,\"total\":178},{\"date\":\"2025-06-22T00:00:00.000\",\"content_count\":32,\"audio_files_count\":0,\"share_count\":0,\"photos_count\":3,\"videos_count\":3,\"total\":38},{\"date\":\"2025-06-23T00:00:00.000\",\"content_count\":71,\"audio_files_count\":0,\"share_count\":0,\"photos_count\":1,\"videos_count\":1,\"total\":73},{\"date\":\"2025-06-24T00:00:00.000\",\"content_count\":43,\"audio_files_count\":0,\"share_count\":2,\"photos_count\":4,\"videos_count\":0,\"total\":49},{\"date\":\"2025-06-25T00:00:00.000\",\"content_count\":21,\"audio_files_count\":0,\"share_count\":1,\"photos_count\":0,\"videos_count\":0,\"total\":22},{\"date\":\"2025-06-26T00:00:00.000\",\"content_count\":18,\"audio_files_count\":0,\"share_count\":1,\"photos_count\":1,\"videos_count\":0,\"total\":20},{\"date\":\"2025-06-27T00:00:00.000\",\"content_count\":44,\"audio_files_count\":0,\"share_count\":0,\"photos_count\":0,\"videos_count\":0,\"total\":44},{\"date\":\"2025-06-28T00:00:00.000\",\"content_count\":17,\"audio_files_count\":0,\"share_count\":2,\"photos_count\":0,\"videos_count\":0,\"total\":19},{\"date\":\"2025-06-29T00:00:00.000\",\"content_count\":34,\"audio_files_count\":0,\"share_count\":0,\"photos_count\":4,\"videos_count\":1,\"total\":39},{\"date\":\"2025-06-30T00:00:00.000\",\"content_count\":163,\"audio_files_count\":0,\"share_count\":2,\"photos_count\":3,\"videos_count\":2,\"total\":170},{\"date\":\"2025-07-01T00:00:00.000\",\"content_count\":58,\"audio_files_count\":1,\"share_count\":2,\"photos_count\":4,\"videos_count\":0,\"total\":65},{\"date\":\"2025-07-02T00:00:00.000\",\"content_count\":37,\"audio_files_count\":0,\"share_count\":2,\"photos_count\":2,\"videos_count\":0,\"total\":41},{\"date\":\"2025-07-03T00:00:00.000\",\"content_count\":39,\"audio_files_count\":0,\"share_count\":1,\"photos_count\":1,\"videos_count\":1,\"total\":42},{\"date\":\"2025-07-04T00:00:00.000\",\"content_count\":14,\"audio_files_count\":0,\"share_count\":1,\"photos_count\":0,\"videos_count\":0,\"total\":15},{\"date\":\"2025-07-05T00:00:00.000\",\"content_count\":117,\"audio_files_count\":0,\"share_count\":2,\"photos_count\":3,\"videos_count\":0,\"total\":122},{\"date\":\"2025-07-06T00:00:00.000\",\"content_count\":68,\"audio_files_count\":1,\"share_count\":0,\"photos_count\":2,\"videos_count\":0,\"total\":71},{\"date\":\"2025-07-07T00:00:00.000\",\"content_count\":19,\"audio_files_count\":0,\"share_count\":2,\"photos_count\":3,\"videos_count\":0,\"total\":24},{\"date\":\"2025-07-08T00:00:00.000\",\"content_count\":25,\"audio_files_count\":0,\"share_count\":2,\"photos_count\":0,\"videos_count\":0,\"total\":27},{\"date\":\"2025-07-09T00:00:00.000\",\"content_count\":0,\"audio_files_count\":0,\"share_count\":0,\"photos_count\":0,\"videos_count\":0,\"total\":0},{\"date\":\"2025-07-10T00:00:00.000\",\"content_count\":25,\"audio_files_count\":0,\"share_count\":0,\"photos_count\":0,\"videos_count\":0,\"total\":25},{\"date\":\"2025-07-11T00:00:00.000\",\"content_count\":34,\"audio_files_count\":0,\"share_count\":0,\"photos_count\":1,\"videos_count\":0,\"total\":35},{\"date\":\"2025-07-12T00:00:00.000\",\"content_count\":100,\"audio_files_count\":1,\"share_count\":0,\"photos_count\":2,\"videos_count\":2,\"total\":105},{\"date\":\"2025-07-13T00:00:00.000\",\"content_count\":91,\"audio_files_count\":0,\"share_count\":0,\"photos_count\":2,\"videos_count\":0,\"total\":93},{\"date\":\"2025-07-14T00:00:00.000\",\"content_count\":13,\"audio_files_count\":0,\"share_count\":0,\"photos_count\":4,\"videos_count\":0,\"total\":17},{\"date\":\"2025-07-15T00:00:00.000\",\"content_count\":55,\"audio_files_count\":0,\"share_count\":3,\"photos_count\":3,\"videos_count\":0,\"total\":61},{\"date\":\"2025-07-16T00:00:00.000\",\"content_count\":33,\"audio_files_count\":0,\"share_count\":1,\"photos_count\":2,\"videos_count\":0,\"total\":36},{\"date\":\"2025-07-17T00:00:00.000\",\"content_count\":21,\"audio_files_count\":0,\"share_count\":1,\"photos_count\":1,\"videos_count\":0,\"total\":23},{\"date\":\"2025-07-18T00:00:00.000\",\"content_count\":2,\"audio_files_count\":0,\"share_count\":0,\"photos_count\":1,\"videos_count\":0,\"total\":3},{\"date\":\"2025-07-19T00:00:00.000\",\"content_count\":5,\"audio_files_count\":0,\"share_count\":0,\"photos_count\":1,\"videos_count\":0,\"total\":6},{\"date\":\"2025-07-20T00:00:00.000\",\"content_count\":5,\"audio_files_count\":0,\"share_count\":0,\"photos_count\":3,\"videos_count\":2,\"total\":10},{\"date\":\"2025-07-21T00:00:00.000\",\"content_count\":3,\"audio_files_count\":0,\"share_count\":3,\"photos_count\":0,\"videos_count\":0,\"total\":6},{\"date\":\"2025-07-22T00:00:00.000\",\"content_count\":4,\"audio_files_count\":0,\"share_count\":1,\"photos_count\":0,\"videos_count\":0,\"total\":5},{\"date\":\"2025-07-23T00:00:00.000\",\"content_count\":39,\"audio_files_count\":0,\"share_count\":3,\"photos_count\":2,\"videos_count\":2,\"total\":46},{\"date\":\"2025-07-24T00:00:00.000\",\"content_count\":0,\"audio_files_count\":0,\"share_count\":0,\"photos_count\":0,\"videos_count\":0,\"total\":0},{\"date\":\"2025-07-25T00:00:00.000\",\"content_count\":60,\"audio_files_count\":0,\"share_count\":3,\"photos_count\":1,\"videos_count\":0,\"total\":64},{\"date\":\"2025-07-26T00:00:00.000\",\"content_count\":23,\"audio_files_count\":0,\"share_count\":1,\"photos_count\":1,\"videos_count\":0,\"total\":25},{\"date\":\"2025-07-27T00:00:00.000\",\"content_count\":29,\"audio_files_count\":0,\"share_count\":0,\"photos_count\":3,\"videos_count\":2,\"total\":34},{\"date\":\"2025-07-28T00:00:00.000\",\"content_count\":25,\"audio_files_count\":0,\"share_count\":0,\"photos_count\":0,\"videos_count\":0,\"total\":25},{\"date\":\"2025-07-29T00:00:00.000\",\"content_count\":39,\"audio_files_count\":0,\"share_count\":0,\"photos_count\":0,\"videos_count\":1,\"total\":40},{\"date\":\"2025-07-30T00:00:00.000\",\"content_count\":16,\"audio_files_count\":0,\"share_count\":2,\"photos_count\":1,\"videos_count\":1,\"total\":20},{\"date\":\"2025-07-31T00:00:00.000\",\"content_count\":0,\"audio_files_count\":0,\"share_count\":0,\"photos_count\":0,\"videos_count\":0,\"total\":0},{\"date\":\"2025-08-01T00:00:00.000\",\"content_count\":7,\"audio_files_count\":0,\"share_count\":0,\"photos_count\":2,\"videos_count\":0,\"total\":9},{\"date\":\"2025-08-02T00:00:00.000\",\"content_count\":14,\"audio_files_count\":0,\"share_count\":0,\"photos_count\":2,\"videos_count\":0,\"total\":16},{\"date\":\"2025-08-03T00:00:00.000\",\"content_count\":0,\"audio_files_count\":0,\"share_count\":0,\"photos_count\":0,\"videos_count\":0,\"total\":0},{\"date\":\"2025-08-04T00:00:00.000\",\"content_count\":0,\"audio_files_count\":0,\"share_count\":0,\"photos_count\":0,\"videos_count\":0,\"total\":0},{\"date\":\"2025-08-05T00:00:00.000\",\"content_count\":31,\"audio_files_count\":0,\"share_count\":2,\"photos_count\":3,\"videos_count\":1,\"total\":37},{\"date\":\"2025-08-06T00:00:00.000\",\"content_count\":13,\"audio_files_count\":0,\"share_count\":1,\"photos_count\":1,\"videos_count\":0,\"total\":15},{\"date\":\"2025-08-07T00:00:00.000\",\"content_count\":23,\"audio_files_count\":0,\"share_count\":3,\"photos_count\":4,\"videos_count\":1,\"total\":31},{\"date\":\"2025-08-08T00:00:00.000\",\"content_count\":21,\"audio_files_count\":0,\"share_count\":2,\"photos_count\":0,\"videos_count\":0,\"total\":23},{\"date\":\"2025-08-09T00:00:00.000\",\"content_count\":36,\"audio_files_count\":0,\"share_count\":0,\"photos_count\":4,\"videos_count\":5,\"total\":45},{\"date\":\"2025-08-10T00:00:00.000\",\"content_count\":65,\"audio_files_count\":0,\"share_count\":2,\"photos_count\":5,\"videos_count\":1,\"total\":73},{\"date\":\"2025-08-11T00:00:00.000\",\"content_count\":54,\"audio_files_count\":1,\"share_count\":5,\"photos_count\":5,\"videos_count\":1,\"total\":66},{\"date\":\"2025-08-12T00:00:00.000\",\"content_count\":33,\"audio_files_count\":1,\"share_count\":1,\"photos_count\":1,\"videos_count\":0,\"total\":36},{\"date\":\"2025-08-13T00:00:00.000\",\"content_count\":126,\"audio_files_count\":1,\"share_count\":4,\"photos_count\":5,\"videos_count\":3,\"total\":139},{\"date\":\"2025-08-14T00:00:00.000\",\"content_count\":40,\"audio_files_count\":1,\"share_count\":0,\"photos_count\":6,\"videos_count\":0,\"total\":47},{\"date\":\"2025-08-15T00:00:00.000\",\"content_count\":9,\"audio_files_count\":0,\"share_count\":1,\"photos_count\":1,\"videos_count\":0,\"total\":11},{\"date\":\"2025-08-16T00:00:00.000\",\"content_count\":68,\"audio_files_count\":0,\"share_count\":3,\"photos_count\":0,\"videos_count\":1,\"total\":72},{\"date\":\"2025-08-17T00:00:00.000\",\"content_count\":181,\"audio_files_count\":0,\"share_count\":6,\"photos_count\":25,\"videos_count\":1,\"total\":213},{\"date\":\"2025-08-18T00:00:00.000\",\"content_count\":52,\"audio_files_count\":0,\"share_count\":2,\"photos_count\":2,\"videos_count\":0,\"total\":56},{\"date\":\"2025-08-19T00:00:00.000\",\"content_count\":187,\"audio_files_count\":0,\"share_count\":8,\"photos_count\":1,\"videos_count\":0,\"total\":196},{\"date\":\"2025-08-20T00:00:00.000\",\"content_count\":29,\"audio_files_count\":0,\"share_count\":0,\"photos_count\":0,\"videos_count\":0,\"total\":29},{\"date\":\"2025-08-21T00:00:00.000\",\"content_count\":41,\"audio_files_count\":0,\"share_count\":2,\"photos_count\":5,\"videos_count\":0,\"total\":48},{\"date\":\"2025-08-22T00:00:00.000\",\"content_count\":7,\"audio_files_count\":0,\"share_count\":3,\"photos_count\":0,\"videos_count\":0,\"total\":10},{\"date\":\"2025-08-23T00:00:00.000\",\"content_count\":1,\"audio_files_count\":0,\"share_count\":0,\"photos_count\":1,\"videos_count\":0,\"total\":2},{\"date\":\"2025-08-24T00:00:00.000\",\"content_count\":79,\"audio_files_count\":0,\"share_count\":6,\"photos_count\":13,\"videos_count\":4,\"total\":102},{\"date\":\"2025-08-25T00:00:00.000\",\"content_count\":17,\"audio_files_count\":1,\"share_count\":0,\"photos_count\":1,\"videos_count\":0,\"total\":19},{\"date\":\"2025-08-26T00:00:00.000\",\"content_count\":67,\"audio_files_count\":0,\"share_count\":2,\"photos_count\":3,\"videos_count\":0,\"total\":72},{\"date\":\"2025-08-27T00:00:00.000\",\"content_count\":65,\"audio_files_count\":0,\"share_count\":2,\"photos_count\":4,\"videos_count\":0,\"total\":71},{\"date\":\"2025-08-28T00:00:00.000\",\"content_count\":46,\"audio_files_count\":0,\"share_count\":4,\"photos_count\":0,\"videos_count\":2,\"total\":52},{\"date\":\"2025-08-29T00:00:00.000\",\"content_count\":79,\"audio_files_count\":0,\"share_count\":8,\"photos_count\":5,\"videos_count\":1,\"total\":93},{\"date\":\"2025-08-30T00:00:00.000\",\"content_count\":5,\"audio_files_count\":0,\"share_count\":0,\"photos_count\":0,\"videos_count\":0,\"total\":5},{\"date\":\"2025-08-31T00:00:00.000\",\"content_count\":6,\"audio_files_count\":0,\"share_count\":0,\"photos_count\":1,\"videos_count\":0,\"total\":7},{\"date\":\"2025-09-01T00:00:00.000\",\"content_count\":27,\"audio_files_count\":3,\"share_count\":0,\"photos_count\":3,\"videos_count\":2,\"total\":35},{\"date\":\"2025-09-02T00:00:00.000\",\"content_count\":40,\"audio_files_count\":0,\"share_count\":2,\"photos_count\":0,\"videos_count\":0,\"total\":42},{\"date\":\"2025-09-03T00:00:00.000\",\"content_count\":31,\"audio_files_count\":0,\"share_count\":1,\"photos_count\":2,\"videos_count\":0,\"total\":34},{\"date\":\"2025-09-04T00:00:00.000\",\"content_count\":1,\"audio_files_count\":0,\"share_count\":1,\"photos_count\":0,\"videos_count\":0,\"total\":2},{\"date\":\"2025-09-05T00:00:00.000\",\"content_count\":61,\"audio_files_count\":1,\"share_count\":4,\"photos_count\":1,\"videos_count\":2,\"total\":69},{\"date\":\"2025-09-06T00:00:00.000\",\"content_count\":168,\"audio_files_count\":0,\"share_count\":5,\"photos_count\":4,\"videos_count\":0,\"total\":177},{\"date\":\"2025-09-07T00:00:00.000\",\"content_count\":107,\"audio_files_count\":1,\"share_count\":5,\"photos_count\":8,\"videos_count\":3,\"total\":124},{\"date\":\"2025-09-08T00:00:00.000\",\"content_count\":20,\"audio_files_count\":0,\"share_count\":5,\"photos_count\":1,\"videos_count\":0,\"total\":26},{\"date\":\"2025-09-09T00:00:00.000\",\"content_count\":19,\"audio_files_count\":0,\"share_count\":3,\"photos_count\":1,\"videos_count\":1,\"total\":24},{\"date\":\"2025-09-10T00:00:00.000\",\"content_count\":245,\"audio_files_count\":0,\"share_count\":9,\"photos_count\":6,\"videos_count\":0,\"total\":260},{\"date\":\"2025-09-11T00:00:00.000\",\"content_count\":50,\"audio_files_count\":0,\"share_count\":8,\"photos_count\":1,\"videos_count\":1,\"total\":60},{\"date\":\"2025-09-12T00:00:00.000\",\"content_count\":52,\"audio_files_count\":0,\"share_count\":0,\"photos_count\":2,\"videos_count\":0,\"total\":54},{\"date\":\"2025-09-13T00:00:00.000\",\"content_count\":78,\"audio_files_count\":0,\"share_count\":2,\"photos_count\":2,\"videos_count\":0,\"total\":82},{\"date\":\"2025-09-14T00:00:00.000\",\"content_count\":31,\"audio_files_count\":0,\"share_count\":4,\"photos_count\":0,\"videos_count\":0,\"total\":35},{\"date\":\"2025-09-15T00:00:00.000\",\"content_count\":5,\"audio_files_count\":0,\"share_count\":2,\"photos_count\":2,\"videos_count\":0,\"total\":9},{\"date\":\"2025-09-16T00:00:00.000\",\"content_count\":14,\"audio_files_count\":0,\"share_count\":0,\"photos_count\":3,\"videos_count\":0,\"total\":17},{\"date\":\"2025-09-17T00:00:00.000\",\"content_count\":1,\"audio_files_count\":0,\"share_count\":0,\"photos_count\":0,\"videos_count\":0,\"total\":1},{\"date\":\"2025-09-18T00:00:00.000\",\"content_count\":34,\"audio_files_count\":0,\"share_count\":5,\"photos_count\":0,\"videos_count\":0,\"total\":39},{\"date\":\"2025-09-19T00:00:00.000\",\"content_count\":13,\"audio_files_count\":0,\"share_count\":0,\"photos_count\":3,\"videos_count\":0,\"total\":16},{\"date\":\"2025-09-20T00:00:00.000\",\"content_count\":13,\"audio_files_count\":0,\"share_count\":0,\"photos_count\":1,\"videos_count\":0,\"total\":14},{\"date\":\"2025-09-21T00:00:00.000\",\"content_count\":4,\"audio_files_count\":0,\"share_count\":0,\"photos_count\":1,\"videos_count\":0,\"total\":5},{\"date\":\"2025-09-22T00:00:00.000\",\"content_count\":31,\"audio_files_count\":0,\"share_count\":1,\"photos_count\":2,\"videos_count\":0,\"total\":34},{\"date\":\"2025-09-23T00:00:00.000\",\"content_count\":11,\"audio_files_count\":0,\"share_count\":3,\"photos_count\":1,\"videos_count\":1,\"total\":16},{\"date\":\"2025-09-24T00:00:00.000\",\"content_count\":8,\"audio_files_count\":0,\"share_count\":1,\"photos_count\":0,\"videos_count\":0,\"total\":9},{\"date\":\"2025-09-25T00:00:00.000\",\"content_count\":12,\"audio_files_count\":0,\"share_count\":1,\"photos_count\":2,\"videos_count\":0,\"total\":15},{\"date\":\"2025-09-26T00:00:00.000\",\"content_count\":15,\"audio_files_count\":0,\"share_count\":2,\"photos_count\":0,\"videos_count\":0,\"total\":17},{\"date\":\"2025-09-27T00:00:00.000\",\"content_count\":38,\"audio_files_count\":0,\"share_count\":2,\"photos_count\":1,\"videos_count\":0,\"total\":41},{\"date\":\"2025-09-28T00:00:00.000\",\"content_count\":11,\"audio_files_count\":0,\"share_count\":2,\"photos_count\":0,\"videos_count\":1,\"total\":14},{\"date\":\"2025-09-29T00:00:00.000\",\"content_count\":0,\"audio_files_count\":0,\"share_count\":0,\"photos_count\":0,\"videos_count\":0,\"total\":0},{\"date\":\"2025-09-30T00:00:00.000\",\"content_count\":0,\"audio_files_count\":0,\"share_count\":0,\"photos_count\":0,\"videos_count\":0,\"total\":0},{\"date\":\"2025-10-01T00:00:00.000\",\"content_count\":7,\"audio_files_count\":0,\"share_count\":0,\"photos_count\":0,\"videos_count\":0,\"total\":7},{\"date\":\"2025-10-02T00:00:00.000\",\"content_count\":11,\"audio_files_count\":0,\"share_count\":0,\"photos_count\":0,\"videos_count\":1,\"total\":12},{\"date\":\"2025-10-03T00:00:00.000\",\"content_count\":36,\"audio_files_count\":0,\"share_count\":3,\"photos_count\":1,\"videos_count\":1,\"total\":41},{\"date\":\"2025-10-04T00:00:00.000\",\"content_count\":21,\"audio_files_count\":0,\"share_count\":7,\"photos_count\":1,\"videos_count\":0,\"total\":29},{\"date\":\"2025-10-05T00:00:00.000\",\"content_count\":8,\"audio_files_count\":0,\"share_count\":1,\"photos_count\":0,\"videos_count\":0,\"total\":9},{\"date\":\"2025-10-06T00:00:00.000\",\"content_count\":42,\"audio_files_count\":0,\"share_count\":1,\"photos_count\":8,\"videos_count\":0,\"total\":51},{\"date\":\"2025-10-07T00:00:00.000\",\"content_count\":0,\"audio_files_count\":0,\"share_count\":0,\"photos_count\":0,\"videos_count\":0,\"total\":0},{\"date\":\"2025-10-08T00:00:00.000\",\"content_count\":5,\"audio_files_count\":0,\"share_count\":1,\"photos_count\":1,\"videos_count\":1,\"total\":8},{\"date\":\"2025-10-09T00:00:00.000\",\"content_count\":82,\"audio_files_count\":0,\"share_count\":0,\"photos_count\":5,\"videos_count\":1,\"total\":88},{\"date\":\"2025-10-10T00:00:00.000\",\"content_count\":17,\"audio_files_count\":0,\"share_count\":3,\"photos_count\":0,\"videos_count\":0,\"total\":20},{\"date\":\"2025-10-11T00:00:00.000\",\"content_count\":14,\"audio_files_count\":0,\"share_count\":1,\"photos_count\":1,\"videos_count\":0,\"total\":16},{\"date\":\"2025-10-12T00:00:00.000\",\"content_count\":4,\"audio_files_count\":0,\"share_count\":1,\"photos_count\":1,\"videos_count\":0,\"total\":6},{\"date\":\"2025-10-13T00:00:00.000\",\"content_count\":48,\"audio_files_count\":0,\"share_count\":3,\"photos_count\":7,\"videos_count\":0,\"total\":58},{\"date\":\"2025-10-14T00:00:00.000\",\"content_count\":19,\"audio_files_count\":0,\"share_count\":3,\"photos_count\":0,\"videos_count\":1,\"total\":23},{\"date\":\"2025-10-15T00:00:00.000\",\"content_count\":1,\"audio_files_count\":0,\"share_count\":1,\"photos_count\":0,\"videos_count\":0,\"total\":2},{\"date\":\"2025-10-16T00:00:00.000\",\"content_count\":7,\"audio_files_count\":0,\"share_count\":0,\"photos_count\":1,\"videos_count\":0,\"total\":8},{\"date\":\"2025-10-17T00:00:00.000\",\"content_count\":3,\"audio_files_count\":0,\"share_count\":0,\"photos_count\":1,\"videos_count\":0,\"total\":4},{\"date\":\"2025-10-18T00:00:00.000\",\"content_count\":82,\"audio_files_count\":0,\"share_count\":2,\"photos_count\":4,\"videos_count\":0,\"total\":88}]'"
      ]
     },
     "execution_count": 6,
     "metadata": {},
     "output_type": "execute_result"
    }
   ],
   "source": [
    "msgs_o = msgs[msgs['sender_name'] == user_name].copy() #messeges out\n",
    "msgs_o['content'] = msgs_o['content'].apply(lambda x : x if isinstance(x, str) else \" \")\n",
    "\n",
    "mask = msgs_o['content'].map(type) == str\n",
    "assert mask.all(), f\"Non-string values found at indices: {msgs.index[~mask].tolist()}\"\n",
    "\n",
    "\n",
    "count_msgs_io(msgs).to_json(orient=\"records\", date_format=\"iso\")"
   ]
  },
  {
   "cell_type": "code",
   "execution_count": 7,
   "id": "1371da9b",
   "metadata": {},
   "outputs": [
    {
     "data": {
      "text/plain": [
       "[{'content_count': 371,\n",
       "  'audio_files_count': 0,\n",
       "  'share_count': 32,\n",
       "  'photos_count': 48,\n",
       "  'videos_count': 8,\n",
       "  'total': 459}]"
      ]
     },
     "execution_count": 7,
     "metadata": {},
     "output_type": "execute_result"
    }
   ],
   "source": [
    "total_msgs_sent(msgs, \"abil\")"
   ]
  },
  {
   "cell_type": "code",
   "execution_count": 8,
   "id": "f70f50f7",
   "metadata": {},
   "outputs": [
    {
     "data": {
      "text/plain": [
       "[{'content_count': 8513,\n",
       "  'audio_files_count': 20,\n",
       "  'share_count': 330,\n",
       "  'photos_count': 433,\n",
       "  'videos_count': 111,\n",
       "  'total': 9407}]"
      ]
     },
     "execution_count": 8,
     "metadata": {},
     "output_type": "execute_result"
    }
   ],
   "source": [
    "total_msgs_recieved(msgs, \"abil\")"
   ]
  },
  {
   "cell_type": "code",
   "execution_count": 9,
   "id": "001be3db",
   "metadata": {},
   "outputs": [
    {
     "data": {
      "application/vnd.microsoft.datawrangler.viewer.v0+json": {
       "columns": [
        {
         "name": "index",
         "rawType": "int64",
         "type": "integer"
        },
        {
         "name": "timestamp_ms",
         "rawType": "period[M]",
         "type": "unknown"
        }
       ],
       "ref": "e202bb7e-6d40-4863-8296-d6f5de342d78",
       "rows": [
        [
         "0",
         "2025-10"
        ],
        [
         "1",
         "2025-10"
        ],
        [
         "2",
         "2025-10"
        ],
        [
         "3",
         "2025-10"
        ],
        [
         "4",
         "2025-10"
        ],
        [
         "5",
         "2025-10"
        ],
        [
         "6",
         "2025-10"
        ],
        [
         "7",
         "2025-10"
        ],
        [
         "8",
         "2025-10"
        ],
        [
         "9",
         "2025-10"
        ],
        [
         "10",
         "2025-10"
        ],
        [
         "11",
         "2025-10"
        ],
        [
         "12",
         "2025-10"
        ],
        [
         "13",
         "2025-10"
        ],
        [
         "14",
         "2025-10"
        ],
        [
         "15",
         "2025-10"
        ],
        [
         "16",
         "2025-10"
        ],
        [
         "17",
         "2025-10"
        ],
        [
         "18",
         "2025-10"
        ],
        [
         "19",
         "2025-10"
        ],
        [
         "20",
         "2025-10"
        ],
        [
         "21",
         "2025-10"
        ],
        [
         "22",
         "2025-10"
        ],
        [
         "23",
         "2025-10"
        ],
        [
         "24",
         "2025-10"
        ],
        [
         "25",
         "2025-10"
        ],
        [
         "26",
         "2025-10"
        ],
        [
         "27",
         "2025-10"
        ],
        [
         "28",
         "2025-10"
        ],
        [
         "29",
         "2025-10"
        ],
        [
         "30",
         "2025-10"
        ],
        [
         "31",
         "2025-10"
        ],
        [
         "32",
         "2025-10"
        ],
        [
         "33",
         "2025-10"
        ],
        [
         "34",
         "2025-10"
        ],
        [
         "35",
         "2025-10"
        ],
        [
         "36",
         "2025-10"
        ],
        [
         "37",
         "2025-10"
        ],
        [
         "38",
         "2025-10"
        ],
        [
         "39",
         "2025-10"
        ],
        [
         "40",
         "2025-10"
        ],
        [
         "41",
         "2025-10"
        ],
        [
         "42",
         "2025-10"
        ],
        [
         "43",
         "2025-10"
        ],
        [
         "44",
         "2025-10"
        ],
        [
         "45",
         "2025-10"
        ],
        [
         "46",
         "2025-10"
        ],
        [
         "47",
         "2025-10"
        ],
        [
         "48",
         "2025-10"
        ],
        [
         "49",
         "2025-10"
        ]
       ],
       "shape": {
        "columns": 1,
        "rows": 10000
       }
      },
      "text/plain": [
       "0       2025-10\n",
       "1       2025-10\n",
       "2       2025-10\n",
       "3       2025-10\n",
       "4       2025-10\n",
       "         ...   \n",
       "9995    2024-12\n",
       "9996    2024-12\n",
       "9997    2024-12\n",
       "9998    2024-12\n",
       "9999    2024-12\n",
       "Name: timestamp_ms, Length: 10000, dtype: period[M]"
      ]
     },
     "execution_count": 9,
     "metadata": {},
     "output_type": "execute_result"
    }
   ],
   "source": [
    "pd.to_datetime(msgs['timestamp_ms'], unit=\"ms\").dt.to_period(\"M\")"
   ]
  },
  {
   "cell_type": "code",
   "execution_count": 10,
   "id": "783d40fc",
   "metadata": {},
   "outputs": [
    {
     "data": {
      "text/plain": [
       "[{'month': 'Dec-2024',\n",
       "  'content_count': 23.625,\n",
       "  'audio_files_count': 0.0,\n",
       "  'share_count': 0.5625,\n",
       "  'photos_count': 0.75,\n",
       "  'videos_count': 0.0,\n",
       "  'total': 24.9375},\n",
       " {'month': 'Jan-2025',\n",
       "  'content_count': 12.67741935483871,\n",
       "  'audio_files_count': 0.03225806451612903,\n",
       "  'share_count': 0.3548387096774194,\n",
       "  'photos_count': 0.7741935483870968,\n",
       "  'videos_count': 0.2903225806451613,\n",
       "  'total': 14.129032258064516},\n",
       " {'month': 'Feb-2025',\n",
       "  'content_count': 29.428571428571427,\n",
       "  'audio_files_count': 0.07142857142857142,\n",
       "  'share_count': 1.2857142857142858,\n",
       "  'photos_count': 1.75,\n",
       "  'videos_count': 0.5,\n",
       "  'total': 33.035714285714285},\n",
       " {'month': 'Mar-2025',\n",
       "  'content_count': 15.290322580645162,\n",
       "  'audio_files_count': 0.0,\n",
       "  'share_count': 0.6129032258064516,\n",
       "  'photos_count': 0.5161290322580645,\n",
       "  'videos_count': 0.2903225806451613,\n",
       "  'total': 16.70967741935484},\n",
       " {'month': 'Apr-2025',\n",
       "  'content_count': 19.833333333333332,\n",
       "  'audio_files_count': 0.03333333333333333,\n",
       "  'share_count': 0.6333333333333333,\n",
       "  'photos_count': 1.3666666666666667,\n",
       "  'videos_count': 0.26666666666666666,\n",
       "  'total': 22.133333333333333},\n",
       " {'month': 'May-2025',\n",
       "  'content_count': 31.06451612903226,\n",
       "  'audio_files_count': 0.06451612903225806,\n",
       "  'share_count': 1.1290322580645162,\n",
       "  'photos_count': 1.7096774193548387,\n",
       "  'videos_count': 0.4838709677419355,\n",
       "  'total': 34.45161290322581},\n",
       " {'month': 'Jun-2025',\n",
       "  'content_count': 35.8,\n",
       "  'audio_files_count': 0.03333333333333333,\n",
       "  'share_count': 0.6333333333333333,\n",
       "  'photos_count': 1.4333333333333333,\n",
       "  'videos_count': 0.43333333333333335,\n",
       "  'total': 38.333333333333336},\n",
       " {'month': 'Jul-2025',\n",
       "  'content_count': 31.032258064516128,\n",
       "  'audio_files_count': 0.0967741935483871,\n",
       "  'share_count': 0.8387096774193549,\n",
       "  'photos_count': 1.096774193548387,\n",
       "  'videos_count': 0.3548387096774194,\n",
       "  'total': 33.41935483870968},\n",
       " {'month': 'Aug-2025',\n",
       "  'content_count': 43.67741935483871,\n",
       "  'audio_files_count': 0.16129032258064516,\n",
       "  'share_count': 2.032258064516129,\n",
       "  'photos_count': 2.806451612903226,\n",
       "  'videos_count': 0.5483870967741935,\n",
       "  'total': 49.225806451612904},\n",
       " {'month': 'Sep-2025',\n",
       "  'content_count': 36.6,\n",
       "  'audio_files_count': 0.16666666666666666,\n",
       "  'share_count': 2.2666666666666666,\n",
       "  'photos_count': 1.5666666666666667,\n",
       "  'videos_count': 0.3333333333333333,\n",
       "  'total': 40.93333333333333},\n",
       " {'month': 'Oct-2025',\n",
       "  'content_count': 22.11111111111111,\n",
       "  'audio_files_count': 0.0,\n",
       "  'share_count': 1.3888888888888888,\n",
       "  'photos_count': 1.5,\n",
       "  'videos_count': 0.2777777777777778,\n",
       "  'total': 25.27777777777778}]"
      ]
     },
     "execution_count": 10,
     "metadata": {},
     "output_type": "execute_result"
    }
   ],
   "source": [
    "get_activity_timeline(msgs, \"abil\", io_type=\"recieved\")"
   ]
  },
  {
   "cell_type": "code",
   "execution_count": null,
   "id": "93123495",
   "metadata": {},
   "outputs": [],
   "source": []
  }
 ],
 "metadata": {
  "kernelspec": {
   "display_name": "venv",
   "language": "python",
   "name": "python3"
  },
  "language_info": {
   "codemirror_mode": {
    "name": "ipython",
    "version": 3
   },
   "file_extension": ".py",
   "mimetype": "text/x-python",
   "name": "python",
   "nbconvert_exporter": "python",
   "pygments_lexer": "ipython3",
   "version": "3.12.3"
  }
 },
 "nbformat": 4,
 "nbformat_minor": 5
}
